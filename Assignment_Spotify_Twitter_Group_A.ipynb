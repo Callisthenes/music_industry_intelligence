{
 "cells": [
  {
   "cell_type": "code",
   "execution_count": 1,
   "id": "32771a85",
   "metadata": {},
   "outputs": [],
   "source": [
    "import findspark\n",
    "findspark.init()"
   ]
  },
  {
   "cell_type": "code",
   "execution_count": 2,
   "id": "870ef869",
   "metadata": {},
   "outputs": [],
   "source": [
    "import pandas as pd\n",
    "pd.set_option('display.max_colwidth', None)"
   ]
  },
  {
   "cell_type": "code",
   "execution_count": 3,
   "id": "0821bade",
   "metadata": {},
   "outputs": [
    {
     "name": "stderr",
     "output_type": "stream",
     "text": [
      "WARNING: An illegal reflective access operation has occurred\n",
      "WARNING: Illegal reflective access by org.apache.spark.unsafe.Platform (file:/opt/spark3/jars/spark-unsafe_2.12-3.2.1.jar) to constructor java.nio.DirectByteBuffer(long,int)\n",
      "WARNING: Please consider reporting this to the maintainers of org.apache.spark.unsafe.Platform\n",
      "WARNING: Use --illegal-access=warn to enable warnings of further illegal reflective access operations\n",
      "WARNING: All illegal access operations will be denied in a future release\n",
      "Setting default log level to \"WARN\".\n",
      "To adjust logging level use sc.setLogLevel(newLevel). For SparkR, use setLogLevel(newLevel).\n"
     ]
    }
   ],
   "source": [
    "from pyspark.sql.session import SparkSession\n",
    "\n",
    "spark = (SparkSession.builder\n",
    "    .appName(\"Spotify_Twitter\")\n",
    "    .getOrCreate())"
   ]
  },
  {
   "cell_type": "code",
   "execution_count": null,
   "id": "a63fbf90",
   "metadata": {},
   "outputs": [],
   "source": []
  },
  {
   "cell_type": "code",
   "execution_count": 4,
   "id": "9a75d196",
   "metadata": {},
   "outputs": [
    {
     "name": "stderr",
     "output_type": "stream",
     "text": [
      "                                                                                \r"
     ]
    }
   ],
   "source": [
    "df = (spark.read\n",
    "            .option(\"header\",\"true\")\n",
    "            .option(\"inferSchema\",\"true\")\n",
    "            .csv(\"Main_Artist_DF.csv\")            \n",
    "            .distinct())"
   ]
  },
  {
   "cell_type": "code",
   "execution_count": 35,
   "id": "28c6360c",
   "metadata": {},
   "outputs": [],
   "source": [
    "df_one_republic = (spark.read\n",
    "            .option(\"header\",\"true\")\n",
    "            .option(\"inferSchema\",\"true\")\n",
    "            .json(\"one_republic.json\")            \n",
    "            .distinct())"
   ]
  },
  {
   "cell_type": "code",
   "execution_count": 30,
   "id": "65b8c8da",
   "metadata": {},
   "outputs": [],
   "source": [
    "df_harry_styles = (spark.read\n",
    "            .option(\"header\",\"true\")\n",
    "            .option(\"inferSchema\",\"true\")\n",
    "            .json(\"harry_styles.json\")            \n",
    "            .distinct())"
   ]
  },
  {
   "cell_type": "code",
   "execution_count": 31,
   "id": "8c04dbe8",
   "metadata": {},
   "outputs": [],
   "source": [
    "df_john_legend = (spark.read\n",
    "            .option(\"header\",\"true\")\n",
    "            .option(\"inferSchema\",\"true\")\n",
    "            .json(\"john_legend.json\")            \n",
    "            .distinct())"
   ]
  },
  {
   "cell_type": "code",
   "execution_count": 32,
   "id": "168c7b66",
   "metadata": {},
   "outputs": [],
   "source": [
    "df_bad_bunny = (spark.read\n",
    "            .option(\"header\",\"true\")\n",
    "            .option(\"inferSchema\",\"true\")\n",
    "            .json(\"bad_bunny.json\")            \n",
    "            .distinct())"
   ]
  },
  {
   "cell_type": "code",
   "execution_count": 33,
   "id": "ec4f7bc3",
   "metadata": {},
   "outputs": [],
   "source": [
    "df_the_weekend = (spark.read\n",
    "            .option(\"header\",\"true\")\n",
    "            .option(\"inferSchema\",\"true\")\n",
    "            .json(\"the_weekend.json\")            \n",
    "            .distinct())"
   ]
  },
  {
   "cell_type": "code",
   "execution_count": 5,
   "id": "4da85167",
   "metadata": {},
   "outputs": [
    {
     "name": "stderr",
     "output_type": "stream",
     "text": [
      "                                                                                \r"
     ]
    },
    {
     "data": {
      "text/plain": [
       "Row(images='https://i.scdn.co/image/ab6761610000e5eb77bf00f67e21f514dc44c485', followers=14400245, popularity=85, name='OneRepublic', genre='piano rock', artist_id='5Pwc4xIPtQLFEnJriah9YJ')"
      ]
     },
     "execution_count": 5,
     "metadata": {},
     "output_type": "execute_result"
    }
   ],
   "source": [
    "df.head()"
   ]
  },
  {
   "cell_type": "code",
   "execution_count": 6,
   "id": "c6229f14",
   "metadata": {},
   "outputs": [
    {
     "data": {
      "text/html": [
       "<div>\n",
       "<style scoped>\n",
       "    .dataframe tbody tr th:only-of-type {\n",
       "        vertical-align: middle;\n",
       "    }\n",
       "\n",
       "    .dataframe tbody tr th {\n",
       "        vertical-align: top;\n",
       "    }\n",
       "\n",
       "    .dataframe thead th {\n",
       "        text-align: right;\n",
       "    }\n",
       "</style>\n",
       "<table border=\"1\" class=\"dataframe\">\n",
       "  <thead>\n",
       "    <tr style=\"text-align: right;\">\n",
       "      <th></th>\n",
       "      <th>images</th>\n",
       "      <th>followers</th>\n",
       "      <th>popularity</th>\n",
       "      <th>name</th>\n",
       "      <th>genre</th>\n",
       "      <th>artist_id</th>\n",
       "    </tr>\n",
       "  </thead>\n",
       "  <tbody>\n",
       "    <tr>\n",
       "      <th>0</th>\n",
       "      <td>https://i.scdn.co/image/ab6761610000e5eb77bf00f67e21f514dc44c485</td>\n",
       "      <td>14400245</td>\n",
       "      <td>85</td>\n",
       "      <td>OneRepublic</td>\n",
       "      <td>piano rock</td>\n",
       "      <td>5Pwc4xIPtQLFEnJriah9YJ</td>\n",
       "    </tr>\n",
       "    <tr>\n",
       "      <th>1</th>\n",
       "      <td>https://i.scdn.co/image/ab6761610000e5ebf7db7c8ede90a019c54590bb</td>\n",
       "      <td>23987672</td>\n",
       "      <td>90</td>\n",
       "      <td>Harry Styles</td>\n",
       "      <td>pop</td>\n",
       "      <td>6KImCVD70vtIoJWnq6nGn3</td>\n",
       "    </tr>\n",
       "    <tr>\n",
       "      <th>2</th>\n",
       "      <td>https://i.scdn.co/image/ab6761610000e5ebb5f9e28219c169fd4b9e8379</td>\n",
       "      <td>51405766</td>\n",
       "      <td>94</td>\n",
       "      <td>The Weeknd</td>\n",
       "      <td>canadian contemporary r&amp;b</td>\n",
       "      <td>1Xyo4u8uXC1ZmMpatF05PJ</td>\n",
       "    </tr>\n",
       "    <tr>\n",
       "      <th>3</th>\n",
       "      <td>https://i.scdn.co/image/ab6761610000e5ebaed3c717bf1753ab928ea88d</td>\n",
       "      <td>6291069</td>\n",
       "      <td>77</td>\n",
       "      <td>John Legend</td>\n",
       "      <td>neo mellow</td>\n",
       "      <td>5y2Xq6xcjJb2jVM54GHK3t</td>\n",
       "    </tr>\n",
       "    <tr>\n",
       "      <th>4</th>\n",
       "      <td>https://i.scdn.co/image/ab6761610000e5eb8ee9a6f54dcbd4bc95126b14</td>\n",
       "      <td>57945768</td>\n",
       "      <td>99</td>\n",
       "      <td>Bad Bunny</td>\n",
       "      <td>reggaeton</td>\n",
       "      <td>4q3ewBCX7sLwd24euuV69X</td>\n",
       "    </tr>\n",
       "  </tbody>\n",
       "</table>\n",
       "</div>"
      ],
      "text/plain": [
       "                                                             images  \\\n",
       "0  https://i.scdn.co/image/ab6761610000e5eb77bf00f67e21f514dc44c485   \n",
       "1  https://i.scdn.co/image/ab6761610000e5ebf7db7c8ede90a019c54590bb   \n",
       "2  https://i.scdn.co/image/ab6761610000e5ebb5f9e28219c169fd4b9e8379   \n",
       "3  https://i.scdn.co/image/ab6761610000e5ebaed3c717bf1753ab928ea88d   \n",
       "4  https://i.scdn.co/image/ab6761610000e5eb8ee9a6f54dcbd4bc95126b14   \n",
       "\n",
       "   followers  popularity          name                      genre  \\\n",
       "0   14400245          85   OneRepublic                 piano rock   \n",
       "1   23987672          90  Harry Styles                        pop   \n",
       "2   51405766          94    The Weeknd  canadian contemporary r&b   \n",
       "3    6291069          77   John Legend                 neo mellow   \n",
       "4   57945768          99     Bad Bunny                  reggaeton   \n",
       "\n",
       "                artist_id  \n",
       "0  5Pwc4xIPtQLFEnJriah9YJ  \n",
       "1  6KImCVD70vtIoJWnq6nGn3  \n",
       "2  1Xyo4u8uXC1ZmMpatF05PJ  \n",
       "3  5y2Xq6xcjJb2jVM54GHK3t  \n",
       "4  4q3ewBCX7sLwd24euuV69X  "
      ]
     },
     "execution_count": 6,
     "metadata": {},
     "output_type": "execute_result"
    }
   ],
   "source": [
    "df.limit(5).toPandas()"
   ]
  },
  {
   "cell_type": "code",
   "execution_count": 68,
   "id": "97523d49",
   "metadata": {},
   "outputs": [
    {
     "data": {
      "text/plain": [
       "558"
      ]
     },
     "execution_count": 68,
     "metadata": {},
     "output_type": "execute_result"
    }
   ],
   "source": [
    "df_the_weekend_summary"
   ]
  },
  {
   "cell_type": "code",
   "execution_count": 44,
   "id": "21a04434",
   "metadata": {},
   "outputs": [],
   "source": [
    "df_one_republic_summary = df_one_republic.groupBy(\"tweet_count\").sum().collect()[0][0]\n",
    "df_harry_styles_summary = df_harry_styles.groupBy(\"tweet_count\").sum().collect()[0][0]\n",
    "df_bad_bunny_summary = df_bad_bunny.groupBy(\"tweet_count\").sum().collect()[0][0]\n",
    "df_john_legend_summary = df_john_legend.groupBy(\"tweet_count\").sum().collect()[0][0]\n",
    "df_the_weekend_summary = df_the_weekend.groupBy(\"tweet_count\").sum().collect()[0][0]"
   ]
  },
  {
   "cell_type": "code",
   "execution_count": 71,
   "id": "d55efcee",
   "metadata": {},
   "outputs": [],
   "source": [
    "df_the_weekend_summary = df_the_weekend.groupBy(\"tweet_count\").sum()"
   ]
  },
  {
   "cell_type": "code",
   "execution_count": 73,
   "id": "c6fbadc7",
   "metadata": {},
   "outputs": [
    {
     "name": "stdout",
     "output_type": "stream",
     "text": [
      "+-----------+----------------+\n",
      "|tweet_count|sum(tweet_count)|\n",
      "+-----------+----------------+\n",
      "|        558|             558|\n",
      "|        736|             736|\n",
      "|        326|             326|\n",
      "|        209|             209|\n",
      "|       1321|            1321|\n",
      "|        836|             836|\n",
      "|        197|             197|\n",
      "|        903|             903|\n",
      "|        441|             441|\n",
      "|       1237|            1237|\n",
      "|        467|             467|\n",
      "|        528|             528|\n",
      "|        451|             451|\n",
      "|        333|             333|\n",
      "|        339|             339|\n",
      "|        641|             641|\n",
      "|        205|             205|\n",
      "|        249|             249|\n",
      "|        482|             482|\n",
      "|        182|             182|\n",
      "+-----------+----------------+\n",
      "only showing top 20 rows\n",
      "\n"
     ]
    }
   ],
   "source": [
    "df_the_weekend_summary.show()"
   ]
  },
  {
   "cell_type": "code",
   "execution_count": 64,
   "id": "12472639",
   "metadata": {},
   "outputs": [],
   "source": [
    "from pyspark.sql.functions import when, lit\n",
    "\n",
    "df_joined = df.withColumn(\"tweets_last_month\",\n",
    "              when((df.name  == \"OneRepublic\"),lit(df_one_republic_summary)).\n",
    "              when((df.name  == \"Harry Styles\"),lit(df_harry_styles_summary)).\n",
    "              when((df.name  == \"John Legend\"),lit(df_john_legend_summary)).\n",
    "              when((df.name  == \"Bad Bunny\"),lit(df_bad_bunny_summary)).\n",
    "              when((df.name  == \"The Weeknd\"),lit(df_the_weekend_summary)))\n",
    "            \n"
   ]
  },
  {
   "cell_type": "code",
   "execution_count": 65,
   "id": "0e9f224d",
   "metadata": {},
   "outputs": [
    {
     "data": {
      "text/html": [
       "<div>\n",
       "<style scoped>\n",
       "    .dataframe tbody tr th:only-of-type {\n",
       "        vertical-align: middle;\n",
       "    }\n",
       "\n",
       "    .dataframe tbody tr th {\n",
       "        vertical-align: top;\n",
       "    }\n",
       "\n",
       "    .dataframe thead th {\n",
       "        text-align: right;\n",
       "    }\n",
       "</style>\n",
       "<table border=\"1\" class=\"dataframe\">\n",
       "  <thead>\n",
       "    <tr style=\"text-align: right;\">\n",
       "      <th></th>\n",
       "      <th>images</th>\n",
       "      <th>followers</th>\n",
       "      <th>popularity</th>\n",
       "      <th>name</th>\n",
       "      <th>genre</th>\n",
       "      <th>artist_id</th>\n",
       "      <th>tweets_last_month</th>\n",
       "    </tr>\n",
       "  </thead>\n",
       "  <tbody>\n",
       "    <tr>\n",
       "      <th>0</th>\n",
       "      <td>https://i.scdn.co/image/ab6761610000e5eb77bf00f67e21f514dc44c485</td>\n",
       "      <td>14400245</td>\n",
       "      <td>85</td>\n",
       "      <td>OneRepublic</td>\n",
       "      <td>piano rock</td>\n",
       "      <td>5Pwc4xIPtQLFEnJriah9YJ</td>\n",
       "      <td>693</td>\n",
       "    </tr>\n",
       "    <tr>\n",
       "      <th>1</th>\n",
       "      <td>https://i.scdn.co/image/ab6761610000e5ebf7db7c8ede90a019c54590bb</td>\n",
       "      <td>23987672</td>\n",
       "      <td>90</td>\n",
       "      <td>Harry Styles</td>\n",
       "      <td>pop</td>\n",
       "      <td>6KImCVD70vtIoJWnq6nGn3</td>\n",
       "      <td>2520</td>\n",
       "    </tr>\n",
       "    <tr>\n",
       "      <th>2</th>\n",
       "      <td>https://i.scdn.co/image/ab6761610000e5ebb5f9e28219c169fd4b9e8379</td>\n",
       "      <td>51405766</td>\n",
       "      <td>94</td>\n",
       "      <td>The Weeknd</td>\n",
       "      <td>canadian contemporary r&amp;b</td>\n",
       "      <td>1Xyo4u8uXC1ZmMpatF05PJ</td>\n",
       "      <td>558</td>\n",
       "    </tr>\n",
       "    <tr>\n",
       "      <th>3</th>\n",
       "      <td>https://i.scdn.co/image/ab6761610000e5ebaed3c717bf1753ab928ea88d</td>\n",
       "      <td>6291069</td>\n",
       "      <td>77</td>\n",
       "      <td>John Legend</td>\n",
       "      <td>neo mellow</td>\n",
       "      <td>5y2Xq6xcjJb2jVM54GHK3t</td>\n",
       "      <td>4139</td>\n",
       "    </tr>\n",
       "    <tr>\n",
       "      <th>4</th>\n",
       "      <td>https://i.scdn.co/image/ab6761610000e5eb8ee9a6f54dcbd4bc95126b14</td>\n",
       "      <td>57945768</td>\n",
       "      <td>99</td>\n",
       "      <td>Bad Bunny</td>\n",
       "      <td>reggaeton</td>\n",
       "      <td>4q3ewBCX7sLwd24euuV69X</td>\n",
       "      <td>1463</td>\n",
       "    </tr>\n",
       "  </tbody>\n",
       "</table>\n",
       "</div>"
      ],
      "text/plain": [
       "                                                             images  \\\n",
       "0  https://i.scdn.co/image/ab6761610000e5eb77bf00f67e21f514dc44c485   \n",
       "1  https://i.scdn.co/image/ab6761610000e5ebf7db7c8ede90a019c54590bb   \n",
       "2  https://i.scdn.co/image/ab6761610000e5ebb5f9e28219c169fd4b9e8379   \n",
       "3  https://i.scdn.co/image/ab6761610000e5ebaed3c717bf1753ab928ea88d   \n",
       "4  https://i.scdn.co/image/ab6761610000e5eb8ee9a6f54dcbd4bc95126b14   \n",
       "\n",
       "   followers  popularity          name                      genre  \\\n",
       "0   14400245          85   OneRepublic                 piano rock   \n",
       "1   23987672          90  Harry Styles                        pop   \n",
       "2   51405766          94    The Weeknd  canadian contemporary r&b   \n",
       "3    6291069          77   John Legend                 neo mellow   \n",
       "4   57945768          99     Bad Bunny                  reggaeton   \n",
       "\n",
       "                artist_id  tweets_last_month  \n",
       "0  5Pwc4xIPtQLFEnJriah9YJ                693  \n",
       "1  6KImCVD70vtIoJWnq6nGn3               2520  \n",
       "2  1Xyo4u8uXC1ZmMpatF05PJ                558  \n",
       "3  5y2Xq6xcjJb2jVM54GHK3t               4139  \n",
       "4  4q3ewBCX7sLwd24euuV69X               1463  "
      ]
     },
     "execution_count": 65,
     "metadata": {},
     "output_type": "execute_result"
    }
   ],
   "source": [
    "df_joined.limit(5).toPandas()"
   ]
  },
  {
   "cell_type": "code",
   "execution_count": null,
   "id": "2d557100",
   "metadata": {},
   "outputs": [],
   "source": []
  },
  {
   "cell_type": "markdown",
   "id": "0e080db5",
   "metadata": {},
   "source": [
    "https://www.geeksforgeeks.org/how-to-add-a-new-column-to-a-pyspark-dataframe/"
   ]
  },
  {
   "cell_type": "code",
   "execution_count": null,
   "id": "7704aebf",
   "metadata": {},
   "outputs": [],
   "source": []
  }
 ],
 "metadata": {
  "kernelspec": {
   "display_name": "Python 3 (ipykernel)",
   "language": "python",
   "name": "python3"
  },
  "language_info": {
   "codemirror_mode": {
    "name": "ipython",
    "version": 3
   },
   "file_extension": ".py",
   "mimetype": "text/x-python",
   "name": "python",
   "nbconvert_exporter": "python",
   "pygments_lexer": "ipython3",
   "version": "3.9.2"
  }
 },
 "nbformat": 4,
 "nbformat_minor": 5
}
