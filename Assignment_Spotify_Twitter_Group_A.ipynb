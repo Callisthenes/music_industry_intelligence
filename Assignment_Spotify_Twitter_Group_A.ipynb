{
 "cells": [
  {
   "cell_type": "code",
   "execution_count": 1,
   "id": "32771a85",
   "metadata": {},
   "outputs": [],
   "source": [
    "import findspark\n",
    "findspark.init()"
   ]
  },
  {
   "cell_type": "code",
   "execution_count": 2,
   "id": "870ef869",
   "metadata": {},
   "outputs": [],
   "source": [
    "import pandas as pd\n",
    "pd.set_option('display.max_colwidth', None)"
   ]
  },
  {
   "cell_type": "code",
   "execution_count": 3,
   "id": "0821bade",
   "metadata": {},
   "outputs": [
    {
     "name": "stderr",
     "output_type": "stream",
     "text": [
      "WARNING: An illegal reflective access operation has occurred\n",
      "WARNING: Illegal reflective access by org.apache.spark.unsafe.Platform (file:/opt/spark3/jars/spark-unsafe_2.12-3.2.1.jar) to constructor java.nio.DirectByteBuffer(long,int)\n",
      "WARNING: Please consider reporting this to the maintainers of org.apache.spark.unsafe.Platform\n",
      "WARNING: Use --illegal-access=warn to enable warnings of further illegal reflective access operations\n",
      "WARNING: All illegal access operations will be denied in a future release\n",
      "Setting default log level to \"WARN\".\n",
      "To adjust logging level use sc.setLogLevel(newLevel). For SparkR, use setLogLevel(newLevel).\n"
     ]
    }
   ],
   "source": [
    "from pyspark.sql.session import SparkSession\n",
    "\n",
    "spark = (SparkSession.builder\n",
    "    .appName(\"Spotify_Twitter\")\n",
    "    .getOrCreate())"
   ]
  },
  {
   "cell_type": "markdown",
   "id": "7d010c96",
   "metadata": {},
   "source": [
    "# Importing Spotify Main Artists csv"
   ]
  },
  {
   "cell_type": "code",
   "execution_count": 4,
   "id": "9a75d196",
   "metadata": {},
   "outputs": [],
   "source": [
    "df = (spark.read\n",
    "            .option(\"header\",\"true\")\n",
    "            .option(\"inferSchema\",\"true\")\n",
    "            .csv(\"Main_Artist_DF.csv\")            \n",
    "            .distinct())"
   ]
  },
  {
   "cell_type": "markdown",
   "id": "b96bb4a8",
   "metadata": {},
   "source": [
    "# Importing Twitter Aggregates jsons"
   ]
  },
  {
   "cell_type": "code",
   "execution_count": 5,
   "id": "28c6360c",
   "metadata": {},
   "outputs": [],
   "source": [
    "df_one_republic = (spark.read\n",
    "            .option(\"header\",\"true\")\n",
    "            .option(\"inferSchema\",\"true\")\n",
    "            .json(\"one_republic.json\")            \n",
    "            .distinct())"
   ]
  },
  {
   "cell_type": "code",
   "execution_count": 6,
   "id": "bbfb856b",
   "metadata": {},
   "outputs": [
    {
     "name": "stdout",
     "output_type": "stream",
     "text": [
      "+--------------------+--------------------+-----------+\n",
      "|                 end|               start|tweet_count|\n",
      "+--------------------+--------------------+-----------+\n",
      "|2022-09-21T00:00:...|2022-09-20T00:00:...|       1269|\n",
      "|2022-09-03T00:00:...|2022-09-02T00:00:...|       1790|\n",
      "|2022-09-14T00:00:...|2022-09-13T00:00:...|        921|\n",
      "|2022-09-28T00:00:...|2022-09-27T00:00:...|       1311|\n",
      "|2022-09-09T00:00:...|2022-09-08T00:00:...|        446|\n",
      "|2022-09-10T00:00:...|2022-09-09T00:00:...|        591|\n",
      "|2022-09-24T00:00:...|2022-09-23T00:00:...|       2490|\n",
      "|2022-09-08T00:00:...|2022-09-07T00:00:...|        632|\n",
      "|2022-09-06T00:00:...|2022-09-05T00:00:...|        751|\n",
      "|2022-09-27T00:00:...|2022-09-26T00:00:...|       2422|\n",
      "|2022-09-07T00:00:...|2022-09-06T00:00:...|       1397|\n",
      "|2022-09-30T00:00:...|2022-09-29T00:00:...|       3289|\n",
      "|2022-09-13T00:00:...|2022-09-12T00:00:...|       1753|\n",
      "|2022-09-23T00:00:...|2022-09-22T00:00:...|       3089|\n",
      "|2022-09-18T00:00:...|2022-09-17T00:00:...|       1678|\n",
      "|2022-09-16T00:00:...|2022-09-15T00:00:...|       1328|\n",
      "|2022-09-22T00:00:...|2022-09-21T00:00:...|       3492|\n",
      "|2022-09-17T00:00:...|2022-09-16T00:00:...|       1462|\n",
      "|2022-10-01T00:00:...|2022-09-30T00:00:...|       2012|\n",
      "|2022-09-26T00:00:...|2022-09-25T00:00:...|       1156|\n",
      "+--------------------+--------------------+-----------+\n",
      "only showing top 20 rows\n",
      "\n"
     ]
    }
   ],
   "source": [
    "df_one_republic.show()"
   ]
  },
  {
   "cell_type": "code",
   "execution_count": 8,
   "id": "65b8c8da",
   "metadata": {},
   "outputs": [],
   "source": [
    "df_harry_styles = (spark.read\n",
    "            .option(\"header\",\"true\")\n",
    "            .option(\"inferSchema\",\"true\")\n",
    "            .json(\"harry_styles.json\")            \n",
    "            .distinct())"
   ]
  },
  {
   "cell_type": "code",
   "execution_count": 9,
   "id": "6a819543",
   "metadata": {},
   "outputs": [
    {
     "name": "stdout",
     "output_type": "stream",
     "text": [
      "+--------------------+--------------------+-----------+\n",
      "|                 end|               start|tweet_count|\n",
      "+--------------------+--------------------+-----------+\n",
      "|2022-09-30T00:00:...|2022-09-29T00:00:...|       2740|\n",
      "|2022-09-03T00:00:...|2022-09-02T00:00:...|       4637|\n",
      "|2022-09-25T00:00:...|2022-09-24T00:00:...|       3510|\n",
      "|2022-09-18T00:00:...|2022-09-17T00:00:...|       2324|\n",
      "|2022-09-11T00:00:...|2022-09-10T00:00:...|       2005|\n",
      "|2022-09-19T00:00:...|2022-09-18T00:00:...|       2912|\n",
      "|2022-09-21T00:00:...|2022-09-20T00:00:...|       5782|\n",
      "|2022-09-12T00:00:...|2022-09-11T00:00:...|       5895|\n",
      "|2022-09-08T00:00:...|2022-09-07T00:00:...|       8148|\n",
      "|2022-09-15T00:00:...|2022-09-14T00:00:...|       4777|\n",
      "|2022-09-13T00:00:...|2022-09-12T00:00:...|       4117|\n",
      "|2022-09-01T00:00:...|2022-08-31T00:00:...|       2639|\n",
      "|2022-09-07T00:00:...|2022-09-06T00:00:...|      27558|\n",
      "|2022-09-16T00:00:...|2022-09-15T00:00:...|       2520|\n",
      "|2022-09-22T00:00:...|2022-09-21T00:00:...|       3641|\n",
      "|2022-09-20T00:00:...|2022-09-19T00:00:...|       5694|\n",
      "|2022-09-10T00:00:...|2022-09-09T00:00:...|       2471|\n",
      "|2022-09-09T00:00:...|2022-09-08T00:00:...|       4271|\n",
      "|2022-09-26T00:00:...|2022-09-25T00:00:...|       2562|\n",
      "|2022-09-06T00:00:...|2022-09-05T00:00:...|      22309|\n",
      "+--------------------+--------------------+-----------+\n",
      "only showing top 20 rows\n",
      "\n"
     ]
    }
   ],
   "source": [
    "df_harry_styles.show()"
   ]
  },
  {
   "cell_type": "code",
   "execution_count": 10,
   "id": "8c04dbe8",
   "metadata": {},
   "outputs": [],
   "source": [
    "df_john_legend = (spark.read\n",
    "            .option(\"header\",\"true\")\n",
    "            .option(\"inferSchema\",\"true\")\n",
    "            .json(\"john_legend.json\")            \n",
    "            .distinct())"
   ]
  },
  {
   "cell_type": "code",
   "execution_count": 12,
   "id": "d10d7ced",
   "metadata": {},
   "outputs": [
    {
     "name": "stdout",
     "output_type": "stream",
     "text": [
      "+--------------------+--------------------+-----------+\n",
      "|                 end|               start|tweet_count|\n",
      "+--------------------+--------------------+-----------+\n",
      "|2022-09-15T00:00:...|2022-09-14T00:00:...|       1646|\n",
      "|2022-09-27T00:00:...|2022-09-26T00:00:...|       4219|\n",
      "|2022-09-04T00:00:...|2022-09-03T00:00:...|      37746|\n",
      "|2022-09-23T00:00:...|2022-09-22T00:00:...|       1102|\n",
      "|2022-09-21T00:00:...|2022-09-20T00:00:...|      11536|\n",
      "|2022-09-13T00:00:...|2022-09-12T00:00:...|        802|\n",
      "|2022-09-09T00:00:...|2022-09-08T00:00:...|       1345|\n",
      "|2022-09-06T00:00:...|2022-09-05T00:00:...|       4139|\n",
      "|2022-09-28T00:00:...|2022-09-27T00:00:...|       3747|\n",
      "|2022-09-26T00:00:...|2022-09-25T00:00:...|       6536|\n",
      "|2022-10-01T00:00:...|2022-09-30T00:00:...|       1719|\n",
      "|2022-09-16T00:00:...|2022-09-15T00:00:...|       1746|\n",
      "|2022-09-22T00:00:...|2022-09-21T00:00:...|       3503|\n",
      "|2022-09-25T00:00:...|2022-09-24T00:00:...|       7333|\n",
      "|2022-09-01T00:00:...|2022-08-31T00:00:...|       2861|\n",
      "|2022-09-05T00:00:...|2022-09-04T00:00:...|      10358|\n",
      "|2022-09-08T00:00:...|2022-09-07T00:00:...|       1189|\n",
      "|2022-09-24T00:00:...|2022-09-23T00:00:...|       1427|\n",
      "|2022-09-17T00:00:...|2022-09-16T00:00:...|       1090|\n",
      "|2022-09-14T00:00:...|2022-09-13T00:00:...|       1466|\n",
      "+--------------------+--------------------+-----------+\n",
      "only showing top 20 rows\n",
      "\n"
     ]
    }
   ],
   "source": [
    "df_john_legend.show()"
   ]
  },
  {
   "cell_type": "code",
   "execution_count": 14,
   "id": "168c7b66",
   "metadata": {},
   "outputs": [],
   "source": [
    "df_bad_bunny = (spark.read\n",
    "            .option(\"header\",\"true\")\n",
    "            .option(\"inferSchema\",\"true\")\n",
    "            .json(\"bad_bunny.json\")            \n",
    "            .distinct())"
   ]
  },
  {
   "cell_type": "code",
   "execution_count": 15,
   "id": "a80633c1",
   "metadata": {},
   "outputs": [
    {
     "name": "stdout",
     "output_type": "stream",
     "text": [
      "+--------------------+--------------------+-----------+\n",
      "|                 end|               start|tweet_count|\n",
      "+--------------------+--------------------+-----------+\n",
      "|2022-09-10T00:00:...|2022-09-09T00:00:...|       1521|\n",
      "|2022-09-09T00:00:...|2022-09-08T00:00:...|       1468|\n",
      "|2022-09-02T00:00:...|2022-09-01T00:00:...|       1622|\n",
      "|2022-09-14T00:00:...|2022-09-13T00:00:...|       1059|\n",
      "|2022-09-23T00:00:...|2022-09-22T00:00:...|       1325|\n",
      "|2022-09-27T00:00:...|2022-09-26T00:00:...|       2527|\n",
      "|2022-09-01T00:00:...|2022-08-31T00:00:...|       2476|\n",
      "|2022-09-20T00:00:...|2022-09-19T00:00:...|       5405|\n",
      "|2022-09-24T00:00:...|2022-09-23T00:00:...|       2132|\n",
      "|2022-09-16T00:00:...|2022-09-15T00:00:...|       1463|\n",
      "|2022-09-06T00:00:...|2022-09-05T00:00:...|       1624|\n",
      "|2022-09-25T00:00:...|2022-09-24T00:00:...|       1467|\n",
      "|2022-09-07T00:00:...|2022-09-06T00:00:...|       2266|\n",
      "|2022-09-29T00:00:...|2022-09-28T00:00:...|       1715|\n",
      "|2022-09-30T00:00:...|2022-09-29T00:00:...|       1900|\n",
      "|2022-09-11T00:00:...|2022-09-10T00:00:...|       1114|\n",
      "|2022-09-08T00:00:...|2022-09-07T00:00:...|       1942|\n",
      "|2022-09-22T00:00:...|2022-09-21T00:00:...|       1436|\n",
      "|2022-09-26T00:00:...|2022-09-25T00:00:...|       1634|\n",
      "|2022-09-05T00:00:...|2022-09-04T00:00:...|       1350|\n",
      "+--------------------+--------------------+-----------+\n",
      "only showing top 20 rows\n",
      "\n"
     ]
    }
   ],
   "source": [
    "df_bad_bunny.show()"
   ]
  },
  {
   "cell_type": "code",
   "execution_count": 17,
   "id": "ec4f7bc3",
   "metadata": {},
   "outputs": [],
   "source": [
    "df_the_weekend = (spark.read\n",
    "            .option(\"header\",\"true\")\n",
    "            .option(\"inferSchema\",\"true\")\n",
    "            .json(\"the_weekend.json\")            \n",
    "            .distinct())"
   ]
  },
  {
   "cell_type": "code",
   "execution_count": 18,
   "id": "18b95681",
   "metadata": {
    "scrolled": true
   },
   "outputs": [
    {
     "name": "stdout",
     "output_type": "stream",
     "text": [
      "+--------------------+--------------------+-----------+\n",
      "|                 end|               start|tweet_count|\n",
      "+--------------------+--------------------+-----------+\n",
      "|2022-09-18T00:00:...|2022-09-17T00:00:...|        209|\n",
      "|2022-09-01T00:00:...|2022-08-31T00:00:...|        524|\n",
      "|2022-09-23T00:00:...|2022-09-22T00:00:...|        558|\n",
      "|2022-09-28T00:00:...|2022-09-27T00:00:...|        467|\n",
      "|2022-09-10T00:00:...|2022-09-09T00:00:...|        836|\n",
      "|2022-09-11T00:00:...|2022-09-10T00:00:...|        333|\n",
      "|2022-09-05T00:00:...|2022-09-04T00:00:...|       2801|\n",
      "|2022-09-26T00:00:...|2022-09-25T00:00:...|       1198|\n",
      "|2022-09-09T00:00:...|2022-09-08T00:00:...|        441|\n",
      "|2022-09-22T00:00:...|2022-09-21T00:00:...|        387|\n",
      "|2022-09-21T00:00:...|2022-09-20T00:00:...|        736|\n",
      "|2022-09-19T00:00:...|2022-09-18T00:00:...|        197|\n",
      "|2022-09-24T00:00:...|2022-09-23T00:00:...|       1321|\n",
      "|2022-09-06T00:00:...|2022-09-05T00:00:...|       1237|\n",
      "|2022-09-14T00:00:...|2022-09-13T00:00:...|        182|\n",
      "|2022-09-07T00:00:...|2022-09-06T00:00:...|        641|\n",
      "|2022-09-20T00:00:...|2022-09-19T00:00:...|       2032|\n",
      "|2022-09-04T00:00:...|2022-09-03T00:00:...|        528|\n",
      "|2022-09-29T00:00:...|2022-09-28T00:00:...|        432|\n",
      "|2022-09-13T00:00:...|2022-09-12T00:00:...|        374|\n",
      "+--------------------+--------------------+-----------+\n",
      "only showing top 20 rows\n",
      "\n"
     ]
    }
   ],
   "source": [
    "df_the_weekend.show()"
   ]
  },
  {
   "cell_type": "markdown",
   "id": "707c085a",
   "metadata": {},
   "source": [
    "# Checking how the spotify df is looking like"
   ]
  },
  {
   "cell_type": "code",
   "execution_count": 5,
   "id": "4da85167",
   "metadata": {},
   "outputs": [
    {
     "name": "stderr",
     "output_type": "stream",
     "text": [
      "                                                                                \r"
     ]
    },
    {
     "data": {
      "text/plain": [
       "Row(images='https://i.scdn.co/image/ab6761610000e5eb77bf00f67e21f514dc44c485', followers=14400245, popularity=85, name='OneRepublic', genre='piano rock', artist_id='5Pwc4xIPtQLFEnJriah9YJ')"
      ]
     },
     "execution_count": 5,
     "metadata": {},
     "output_type": "execute_result"
    }
   ],
   "source": [
    "df.head()"
   ]
  },
  {
   "cell_type": "code",
   "execution_count": 6,
   "id": "c6229f14",
   "metadata": {},
   "outputs": [
    {
     "data": {
      "text/html": [
       "<div>\n",
       "<style scoped>\n",
       "    .dataframe tbody tr th:only-of-type {\n",
       "        vertical-align: middle;\n",
       "    }\n",
       "\n",
       "    .dataframe tbody tr th {\n",
       "        vertical-align: top;\n",
       "    }\n",
       "\n",
       "    .dataframe thead th {\n",
       "        text-align: right;\n",
       "    }\n",
       "</style>\n",
       "<table border=\"1\" class=\"dataframe\">\n",
       "  <thead>\n",
       "    <tr style=\"text-align: right;\">\n",
       "      <th></th>\n",
       "      <th>images</th>\n",
       "      <th>followers</th>\n",
       "      <th>popularity</th>\n",
       "      <th>name</th>\n",
       "      <th>genre</th>\n",
       "      <th>artist_id</th>\n",
       "    </tr>\n",
       "  </thead>\n",
       "  <tbody>\n",
       "    <tr>\n",
       "      <th>0</th>\n",
       "      <td>https://i.scdn.co/image/ab6761610000e5eb77bf00f67e21f514dc44c485</td>\n",
       "      <td>14400245</td>\n",
       "      <td>85</td>\n",
       "      <td>OneRepublic</td>\n",
       "      <td>piano rock</td>\n",
       "      <td>5Pwc4xIPtQLFEnJriah9YJ</td>\n",
       "    </tr>\n",
       "    <tr>\n",
       "      <th>1</th>\n",
       "      <td>https://i.scdn.co/image/ab6761610000e5ebf7db7c8ede90a019c54590bb</td>\n",
       "      <td>23987672</td>\n",
       "      <td>90</td>\n",
       "      <td>Harry Styles</td>\n",
       "      <td>pop</td>\n",
       "      <td>6KImCVD70vtIoJWnq6nGn3</td>\n",
       "    </tr>\n",
       "    <tr>\n",
       "      <th>2</th>\n",
       "      <td>https://i.scdn.co/image/ab6761610000e5ebb5f9e28219c169fd4b9e8379</td>\n",
       "      <td>51405766</td>\n",
       "      <td>94</td>\n",
       "      <td>The Weeknd</td>\n",
       "      <td>canadian contemporary r&amp;b</td>\n",
       "      <td>1Xyo4u8uXC1ZmMpatF05PJ</td>\n",
       "    </tr>\n",
       "    <tr>\n",
       "      <th>3</th>\n",
       "      <td>https://i.scdn.co/image/ab6761610000e5ebaed3c717bf1753ab928ea88d</td>\n",
       "      <td>6291069</td>\n",
       "      <td>77</td>\n",
       "      <td>John Legend</td>\n",
       "      <td>neo mellow</td>\n",
       "      <td>5y2Xq6xcjJb2jVM54GHK3t</td>\n",
       "    </tr>\n",
       "    <tr>\n",
       "      <th>4</th>\n",
       "      <td>https://i.scdn.co/image/ab6761610000e5eb8ee9a6f54dcbd4bc95126b14</td>\n",
       "      <td>57945768</td>\n",
       "      <td>99</td>\n",
       "      <td>Bad Bunny</td>\n",
       "      <td>reggaeton</td>\n",
       "      <td>4q3ewBCX7sLwd24euuV69X</td>\n",
       "    </tr>\n",
       "  </tbody>\n",
       "</table>\n",
       "</div>"
      ],
      "text/plain": [
       "                                                             images  \\\n",
       "0  https://i.scdn.co/image/ab6761610000e5eb77bf00f67e21f514dc44c485   \n",
       "1  https://i.scdn.co/image/ab6761610000e5ebf7db7c8ede90a019c54590bb   \n",
       "2  https://i.scdn.co/image/ab6761610000e5ebb5f9e28219c169fd4b9e8379   \n",
       "3  https://i.scdn.co/image/ab6761610000e5ebaed3c717bf1753ab928ea88d   \n",
       "4  https://i.scdn.co/image/ab6761610000e5eb8ee9a6f54dcbd4bc95126b14   \n",
       "\n",
       "   followers  popularity          name                      genre  \\\n",
       "0   14400245          85   OneRepublic                 piano rock   \n",
       "1   23987672          90  Harry Styles                        pop   \n",
       "2   51405766          94    The Weeknd  canadian contemporary r&b   \n",
       "3    6291069          77   John Legend                 neo mellow   \n",
       "4   57945768          99     Bad Bunny                  reggaeton   \n",
       "\n",
       "                artist_id  \n",
       "0  5Pwc4xIPtQLFEnJriah9YJ  \n",
       "1  6KImCVD70vtIoJWnq6nGn3  \n",
       "2  1Xyo4u8uXC1ZmMpatF05PJ  \n",
       "3  5y2Xq6xcjJb2jVM54GHK3t  \n",
       "4  4q3ewBCX7sLwd24euuV69X  "
      ]
     },
     "execution_count": 6,
     "metadata": {},
     "output_type": "execute_result"
    }
   ],
   "source": [
    "df.limit(5).toPandas()"
   ]
  },
  {
   "cell_type": "markdown",
   "id": "c418fe85",
   "metadata": {},
   "source": [
    "# Counting all tweets done every day for an artist and storing in a df"
   ]
  },
  {
   "cell_type": "code",
   "execution_count": 21,
   "id": "4821537e",
   "metadata": {},
   "outputs": [],
   "source": [
    "from pyspark.sql.functions import *"
   ]
  },
  {
   "cell_type": "code",
   "execution_count": 24,
   "id": "21a04434",
   "metadata": {},
   "outputs": [],
   "source": [
    "#Demo for one, the rest done in batch bellow\n",
    "df_one_republic_summary = df_one_republic.select(sum(\"tweet_count\"))"
   ]
  },
  {
   "cell_type": "code",
   "execution_count": 23,
   "id": "ca0ffb11",
   "metadata": {},
   "outputs": [
    {
     "name": "stdout",
     "output_type": "stream",
     "text": [
      "+----------------+\n",
      "|sum(tweet_count)|\n",
      "+----------------+\n",
      "|           48225|\n",
      "+----------------+\n",
      "\n"
     ]
    }
   ],
   "source": [
    "df_one_republic_summary.show()"
   ]
  },
  {
   "cell_type": "code",
   "execution_count": 25,
   "id": "8d3faa2a",
   "metadata": {},
   "outputs": [],
   "source": [
    "df_harry_styles_summary = df_harry_styles.select(sum(\"tweet_count\"))\n",
    "df_bad_bunny_summary = df_bad_bunny.select(sum(\"tweet_count\"))\n",
    "df_john_legend_summary = df_john_legend.select(sum(\"tweet_count\"))\n",
    "df_the_weekend_summary = df_the_weekend.select(sum(\"tweet_count\"))"
   ]
  },
  {
   "cell_type": "code",
   "execution_count": 28,
   "id": "12472639",
   "metadata": {},
   "outputs": [
    {
     "ename": "AttributeError",
     "evalue": "'DataFrame' object has no attribute '_get_object_id'",
     "output_type": "error",
     "traceback": [
      "\u001b[0;31m---------------------------------------------------------------------------\u001b[0m",
      "\u001b[0;31mAttributeError\u001b[0m                            Traceback (most recent call last)",
      "Input \u001b[0;32mIn [28]\u001b[0m, in \u001b[0;36m<cell line: 3>\u001b[0;34m()\u001b[0m\n\u001b[1;32m      1\u001b[0m \u001b[38;5;28;01mfrom\u001b[39;00m \u001b[38;5;21;01mpyspark\u001b[39;00m\u001b[38;5;21;01m.\u001b[39;00m\u001b[38;5;21;01msql\u001b[39;00m\u001b[38;5;21;01m.\u001b[39;00m\u001b[38;5;21;01mfunctions\u001b[39;00m \u001b[38;5;28;01mimport\u001b[39;00m when, lit\n\u001b[1;32m      3\u001b[0m df_joined \u001b[38;5;241m=\u001b[39m df\u001b[38;5;241m.\u001b[39mwithColumn(\u001b[38;5;124m\"\u001b[39m\u001b[38;5;124mtweets_last_month\u001b[39m\u001b[38;5;124m\"\u001b[39m,\n\u001b[0;32m----> 4\u001b[0m               when((df\u001b[38;5;241m.\u001b[39mname  \u001b[38;5;241m==\u001b[39m \u001b[38;5;124m\"\u001b[39m\u001b[38;5;124mOneRepublic\u001b[39m\u001b[38;5;124m\"\u001b[39m),\u001b[43mlit\u001b[49m\u001b[43m(\u001b[49m\u001b[43mdf_one_republic_summary\u001b[49m\u001b[43m)\u001b[49m)\u001b[38;5;241m.\u001b[39m\n\u001b[1;32m      5\u001b[0m               when((df\u001b[38;5;241m.\u001b[39mname  \u001b[38;5;241m==\u001b[39m \u001b[38;5;124m\"\u001b[39m\u001b[38;5;124mHarry Styles\u001b[39m\u001b[38;5;124m\"\u001b[39m),lit(df_harry_styles_summary))\u001b[38;5;241m.\u001b[39m\n\u001b[1;32m      6\u001b[0m               when((df\u001b[38;5;241m.\u001b[39mname  \u001b[38;5;241m==\u001b[39m \u001b[38;5;124m\"\u001b[39m\u001b[38;5;124mJohn Legend\u001b[39m\u001b[38;5;124m\"\u001b[39m),lit(df_john_legend_summary))\u001b[38;5;241m.\u001b[39m\n\u001b[1;32m      7\u001b[0m               when((df\u001b[38;5;241m.\u001b[39mname  \u001b[38;5;241m==\u001b[39m \u001b[38;5;124m\"\u001b[39m\u001b[38;5;124mBad Bunny\u001b[39m\u001b[38;5;124m\"\u001b[39m),lit(df_bad_bunny_summary))\u001b[38;5;241m.\u001b[39m\n\u001b[1;32m      8\u001b[0m               when((df\u001b[38;5;241m.\u001b[39mname  \u001b[38;5;241m==\u001b[39m \u001b[38;5;124m\"\u001b[39m\u001b[38;5;124mThe Weeknd\u001b[39m\u001b[38;5;124m\"\u001b[39m),lit(df_the_weekend_summary)))\n",
      "File \u001b[0;32m/opt/spark3/python/pyspark/sql/functions.py:100\u001b[0m, in \u001b[0;36mlit\u001b[0;34m(col)\u001b[0m\n\u001b[1;32m     89\u001b[0m \u001b[38;5;28;01mdef\u001b[39;00m \u001b[38;5;21mlit\u001b[39m(col):\n\u001b[1;32m     90\u001b[0m     \u001b[38;5;124;03m\"\"\"\u001b[39;00m\n\u001b[1;32m     91\u001b[0m \u001b[38;5;124;03m    Creates a :class:`~pyspark.sql.Column` of literal value.\u001b[39;00m\n\u001b[1;32m     92\u001b[0m \n\u001b[0;32m   (...)\u001b[0m\n\u001b[1;32m     98\u001b[0m \u001b[38;5;124;03m    [Row(height=5, spark_user=True)]\u001b[39;00m\n\u001b[1;32m     99\u001b[0m \u001b[38;5;124;03m    \"\"\"\u001b[39;00m\n\u001b[0;32m--> 100\u001b[0m     \u001b[38;5;28;01mreturn\u001b[39;00m col \u001b[38;5;28;01mif\u001b[39;00m \u001b[38;5;28misinstance\u001b[39m(col, Column) \u001b[38;5;28;01melse\u001b[39;00m \u001b[43m_invoke_function\u001b[49m\u001b[43m(\u001b[49m\u001b[38;5;124;43m\"\u001b[39;49m\u001b[38;5;124;43mlit\u001b[39;49m\u001b[38;5;124;43m\"\u001b[39;49m\u001b[43m,\u001b[49m\u001b[43m \u001b[49m\u001b[43mcol\u001b[49m\u001b[43m)\u001b[49m\n",
      "File \u001b[0;32m/opt/spark3/python/pyspark/sql/functions.py:58\u001b[0m, in \u001b[0;36m_invoke_function\u001b[0;34m(name, *args)\u001b[0m\n\u001b[1;32m     53\u001b[0m \u001b[38;5;124;03m\"\"\"\u001b[39;00m\n\u001b[1;32m     54\u001b[0m \u001b[38;5;124;03mInvokes JVM function identified by name with args\u001b[39;00m\n\u001b[1;32m     55\u001b[0m \u001b[38;5;124;03mand wraps the result with :class:`~pyspark.sql.Column`.\u001b[39;00m\n\u001b[1;32m     56\u001b[0m \u001b[38;5;124;03m\"\"\"\u001b[39;00m\n\u001b[1;32m     57\u001b[0m jf \u001b[38;5;241m=\u001b[39m _get_get_jvm_function(name, SparkContext\u001b[38;5;241m.\u001b[39m_active_spark_context)\n\u001b[0;32m---> 58\u001b[0m \u001b[38;5;28;01mreturn\u001b[39;00m Column(\u001b[43mjf\u001b[49m\u001b[43m(\u001b[49m\u001b[38;5;241;43m*\u001b[39;49m\u001b[43margs\u001b[49m\u001b[43m)\u001b[49m)\n",
      "File \u001b[0;32m/opt/spark3/python/lib/py4j-0.10.9.3-src.zip/py4j/java_gateway.py:1313\u001b[0m, in \u001b[0;36mJavaMember.__call__\u001b[0;34m(self, *args)\u001b[0m\n\u001b[1;32m   1312\u001b[0m \u001b[38;5;28;01mdef\u001b[39;00m \u001b[38;5;21m__call__\u001b[39m(\u001b[38;5;28mself\u001b[39m, \u001b[38;5;241m*\u001b[39margs):\n\u001b[0;32m-> 1313\u001b[0m     args_command, temp_args \u001b[38;5;241m=\u001b[39m \u001b[38;5;28;43mself\u001b[39;49m\u001b[38;5;241;43m.\u001b[39;49m\u001b[43m_build_args\u001b[49m\u001b[43m(\u001b[49m\u001b[38;5;241;43m*\u001b[39;49m\u001b[43margs\u001b[49m\u001b[43m)\u001b[49m\n\u001b[1;32m   1315\u001b[0m     command \u001b[38;5;241m=\u001b[39m proto\u001b[38;5;241m.\u001b[39mCALL_COMMAND_NAME \u001b[38;5;241m+\u001b[39m\\\n\u001b[1;32m   1316\u001b[0m         \u001b[38;5;28mself\u001b[39m\u001b[38;5;241m.\u001b[39mcommand_header \u001b[38;5;241m+\u001b[39m\\\n\u001b[1;32m   1317\u001b[0m         args_command \u001b[38;5;241m+\u001b[39m\\\n\u001b[1;32m   1318\u001b[0m         proto\u001b[38;5;241m.\u001b[39mEND_COMMAND_PART\n\u001b[1;32m   1320\u001b[0m     answer \u001b[38;5;241m=\u001b[39m \u001b[38;5;28mself\u001b[39m\u001b[38;5;241m.\u001b[39mgateway_client\u001b[38;5;241m.\u001b[39msend_command(command)\n",
      "File \u001b[0;32m/opt/spark3/python/lib/py4j-0.10.9.3-src.zip/py4j/java_gateway.py:1283\u001b[0m, in \u001b[0;36mJavaMember._build_args\u001b[0;34m(self, *args)\u001b[0m\n\u001b[1;32m   1279\u001b[0m     new_args \u001b[38;5;241m=\u001b[39m args\n\u001b[1;32m   1280\u001b[0m     temp_args \u001b[38;5;241m=\u001b[39m []\n\u001b[1;32m   1282\u001b[0m args_command \u001b[38;5;241m=\u001b[39m \u001b[38;5;124m\"\u001b[39m\u001b[38;5;124m\"\u001b[39m\u001b[38;5;241m.\u001b[39mjoin(\n\u001b[0;32m-> 1283\u001b[0m     [get_command_part(arg, \u001b[38;5;28mself\u001b[39m\u001b[38;5;241m.\u001b[39mpool) \u001b[38;5;28;01mfor\u001b[39;00m arg \u001b[38;5;129;01min\u001b[39;00m new_args])\n\u001b[1;32m   1285\u001b[0m \u001b[38;5;28;01mreturn\u001b[39;00m args_command, temp_args\n",
      "File \u001b[0;32m/opt/spark3/python/lib/py4j-0.10.9.3-src.zip/py4j/java_gateway.py:1283\u001b[0m, in \u001b[0;36m<listcomp>\u001b[0;34m(.0)\u001b[0m\n\u001b[1;32m   1279\u001b[0m     new_args \u001b[38;5;241m=\u001b[39m args\n\u001b[1;32m   1280\u001b[0m     temp_args \u001b[38;5;241m=\u001b[39m []\n\u001b[1;32m   1282\u001b[0m args_command \u001b[38;5;241m=\u001b[39m \u001b[38;5;124m\"\u001b[39m\u001b[38;5;124m\"\u001b[39m\u001b[38;5;241m.\u001b[39mjoin(\n\u001b[0;32m-> 1283\u001b[0m     [\u001b[43mget_command_part\u001b[49m\u001b[43m(\u001b[49m\u001b[43marg\u001b[49m\u001b[43m,\u001b[49m\u001b[43m \u001b[49m\u001b[38;5;28;43mself\u001b[39;49m\u001b[38;5;241;43m.\u001b[39;49m\u001b[43mpool\u001b[49m\u001b[43m)\u001b[49m \u001b[38;5;28;01mfor\u001b[39;00m arg \u001b[38;5;129;01min\u001b[39;00m new_args])\n\u001b[1;32m   1285\u001b[0m \u001b[38;5;28;01mreturn\u001b[39;00m args_command, temp_args\n",
      "File \u001b[0;32m/opt/spark3/python/lib/py4j-0.10.9.3-src.zip/py4j/protocol.py:298\u001b[0m, in \u001b[0;36mget_command_part\u001b[0;34m(parameter, python_proxy_pool)\u001b[0m\n\u001b[1;32m    296\u001b[0m         command_part \u001b[38;5;241m+\u001b[39m\u001b[38;5;241m=\u001b[39m \u001b[38;5;124m\"\u001b[39m\u001b[38;5;124m;\u001b[39m\u001b[38;5;124m\"\u001b[39m \u001b[38;5;241m+\u001b[39m interface\n\u001b[1;32m    297\u001b[0m \u001b[38;5;28;01melse\u001b[39;00m:\n\u001b[0;32m--> 298\u001b[0m     command_part \u001b[38;5;241m=\u001b[39m REFERENCE_TYPE \u001b[38;5;241m+\u001b[39m \u001b[43mparameter\u001b[49m\u001b[38;5;241;43m.\u001b[39;49m\u001b[43m_get_object_id\u001b[49m()\n\u001b[1;32m    300\u001b[0m command_part \u001b[38;5;241m+\u001b[39m\u001b[38;5;241m=\u001b[39m \u001b[38;5;124m\"\u001b[39m\u001b[38;5;130;01m\\n\u001b[39;00m\u001b[38;5;124m\"\u001b[39m\n\u001b[1;32m    302\u001b[0m \u001b[38;5;28;01mreturn\u001b[39;00m command_part\n",
      "File \u001b[0;32m/opt/spark3/python/pyspark/sql/dataframe.py:1659\u001b[0m, in \u001b[0;36mDataFrame.__getattr__\u001b[0;34m(self, name)\u001b[0m\n\u001b[1;32m   1649\u001b[0m \u001b[38;5;124;03m\"\"\"Returns the :class:`Column` denoted by ``name``.\u001b[39;00m\n\u001b[1;32m   1650\u001b[0m \n\u001b[1;32m   1651\u001b[0m \u001b[38;5;124;03m.. versionadded:: 1.3.0\u001b[39;00m\n\u001b[0;32m   (...)\u001b[0m\n\u001b[1;32m   1656\u001b[0m \u001b[38;5;124;03m[Row(age=2), Row(age=5)]\u001b[39;00m\n\u001b[1;32m   1657\u001b[0m \u001b[38;5;124;03m\"\"\"\u001b[39;00m\n\u001b[1;32m   1658\u001b[0m \u001b[38;5;28;01mif\u001b[39;00m name \u001b[38;5;129;01mnot\u001b[39;00m \u001b[38;5;129;01min\u001b[39;00m \u001b[38;5;28mself\u001b[39m\u001b[38;5;241m.\u001b[39mcolumns:\n\u001b[0;32m-> 1659\u001b[0m     \u001b[38;5;28;01mraise\u001b[39;00m \u001b[38;5;167;01mAttributeError\u001b[39;00m(\n\u001b[1;32m   1660\u001b[0m         \u001b[38;5;124m\"\u001b[39m\u001b[38;5;124m'\u001b[39m\u001b[38;5;132;01m%s\u001b[39;00m\u001b[38;5;124m'\u001b[39m\u001b[38;5;124m object has no attribute \u001b[39m\u001b[38;5;124m'\u001b[39m\u001b[38;5;132;01m%s\u001b[39;00m\u001b[38;5;124m'\u001b[39m\u001b[38;5;124m\"\u001b[39m \u001b[38;5;241m%\u001b[39m (\u001b[38;5;28mself\u001b[39m\u001b[38;5;241m.\u001b[39m\u001b[38;5;18m__class__\u001b[39m\u001b[38;5;241m.\u001b[39m\u001b[38;5;18m__name__\u001b[39m, name))\n\u001b[1;32m   1661\u001b[0m jc \u001b[38;5;241m=\u001b[39m \u001b[38;5;28mself\u001b[39m\u001b[38;5;241m.\u001b[39m_jdf\u001b[38;5;241m.\u001b[39mapply(name)\n\u001b[1;32m   1662\u001b[0m \u001b[38;5;28;01mreturn\u001b[39;00m Column(jc)\n",
      "\u001b[0;31mAttributeError\u001b[0m: 'DataFrame' object has no attribute '_get_object_id'"
     ]
    }
   ],
   "source": [
    "from pyspark.sql.functions import when, lit\n",
    "\n",
    "df_joined = df.withColumn(\"tweets_last_month\",\n",
    "              when((df.name  == \"OneRepublic\"),lit(df_one_republic_summary)).\n",
    "              when((df.name  == \"Harry Styles\"),lit(df_harry_styles_summary)).\n",
    "              when((df.name  == \"John Legend\"),lit(df_john_legend_summary)).\n",
    "              when((df.name  == \"Bad Bunny\"),lit(df_bad_bunny_summary)).\n",
    "              when((df.name  == \"The Weeknd\"),lit(df_the_weekend_summary)))\n",
    "            \n"
   ]
  },
  {
   "cell_type": "code",
   "execution_count": 65,
   "id": "0e9f224d",
   "metadata": {},
   "outputs": [
    {
     "data": {
      "text/html": [
       "<div>\n",
       "<style scoped>\n",
       "    .dataframe tbody tr th:only-of-type {\n",
       "        vertical-align: middle;\n",
       "    }\n",
       "\n",
       "    .dataframe tbody tr th {\n",
       "        vertical-align: top;\n",
       "    }\n",
       "\n",
       "    .dataframe thead th {\n",
       "        text-align: right;\n",
       "    }\n",
       "</style>\n",
       "<table border=\"1\" class=\"dataframe\">\n",
       "  <thead>\n",
       "    <tr style=\"text-align: right;\">\n",
       "      <th></th>\n",
       "      <th>images</th>\n",
       "      <th>followers</th>\n",
       "      <th>popularity</th>\n",
       "      <th>name</th>\n",
       "      <th>genre</th>\n",
       "      <th>artist_id</th>\n",
       "      <th>tweets_last_month</th>\n",
       "    </tr>\n",
       "  </thead>\n",
       "  <tbody>\n",
       "    <tr>\n",
       "      <th>0</th>\n",
       "      <td>https://i.scdn.co/image/ab6761610000e5eb77bf00f67e21f514dc44c485</td>\n",
       "      <td>14400245</td>\n",
       "      <td>85</td>\n",
       "      <td>OneRepublic</td>\n",
       "      <td>piano rock</td>\n",
       "      <td>5Pwc4xIPtQLFEnJriah9YJ</td>\n",
       "      <td>693</td>\n",
       "    </tr>\n",
       "    <tr>\n",
       "      <th>1</th>\n",
       "      <td>https://i.scdn.co/image/ab6761610000e5ebf7db7c8ede90a019c54590bb</td>\n",
       "      <td>23987672</td>\n",
       "      <td>90</td>\n",
       "      <td>Harry Styles</td>\n",
       "      <td>pop</td>\n",
       "      <td>6KImCVD70vtIoJWnq6nGn3</td>\n",
       "      <td>2520</td>\n",
       "    </tr>\n",
       "    <tr>\n",
       "      <th>2</th>\n",
       "      <td>https://i.scdn.co/image/ab6761610000e5ebb5f9e28219c169fd4b9e8379</td>\n",
       "      <td>51405766</td>\n",
       "      <td>94</td>\n",
       "      <td>The Weeknd</td>\n",
       "      <td>canadian contemporary r&amp;b</td>\n",
       "      <td>1Xyo4u8uXC1ZmMpatF05PJ</td>\n",
       "      <td>558</td>\n",
       "    </tr>\n",
       "    <tr>\n",
       "      <th>3</th>\n",
       "      <td>https://i.scdn.co/image/ab6761610000e5ebaed3c717bf1753ab928ea88d</td>\n",
       "      <td>6291069</td>\n",
       "      <td>77</td>\n",
       "      <td>John Legend</td>\n",
       "      <td>neo mellow</td>\n",
       "      <td>5y2Xq6xcjJb2jVM54GHK3t</td>\n",
       "      <td>4139</td>\n",
       "    </tr>\n",
       "    <tr>\n",
       "      <th>4</th>\n",
       "      <td>https://i.scdn.co/image/ab6761610000e5eb8ee9a6f54dcbd4bc95126b14</td>\n",
       "      <td>57945768</td>\n",
       "      <td>99</td>\n",
       "      <td>Bad Bunny</td>\n",
       "      <td>reggaeton</td>\n",
       "      <td>4q3ewBCX7sLwd24euuV69X</td>\n",
       "      <td>1463</td>\n",
       "    </tr>\n",
       "  </tbody>\n",
       "</table>\n",
       "</div>"
      ],
      "text/plain": [
       "                                                             images  \\\n",
       "0  https://i.scdn.co/image/ab6761610000e5eb77bf00f67e21f514dc44c485   \n",
       "1  https://i.scdn.co/image/ab6761610000e5ebf7db7c8ede90a019c54590bb   \n",
       "2  https://i.scdn.co/image/ab6761610000e5ebb5f9e28219c169fd4b9e8379   \n",
       "3  https://i.scdn.co/image/ab6761610000e5ebaed3c717bf1753ab928ea88d   \n",
       "4  https://i.scdn.co/image/ab6761610000e5eb8ee9a6f54dcbd4bc95126b14   \n",
       "\n",
       "   followers  popularity          name                      genre  \\\n",
       "0   14400245          85   OneRepublic                 piano rock   \n",
       "1   23987672          90  Harry Styles                        pop   \n",
       "2   51405766          94    The Weeknd  canadian contemporary r&b   \n",
       "3    6291069          77   John Legend                 neo mellow   \n",
       "4   57945768          99     Bad Bunny                  reggaeton   \n",
       "\n",
       "                artist_id  tweets_last_month  \n",
       "0  5Pwc4xIPtQLFEnJriah9YJ                693  \n",
       "1  6KImCVD70vtIoJWnq6nGn3               2520  \n",
       "2  1Xyo4u8uXC1ZmMpatF05PJ                558  \n",
       "3  5y2Xq6xcjJb2jVM54GHK3t               4139  \n",
       "4  4q3ewBCX7sLwd24euuV69X               1463  "
      ]
     },
     "execution_count": 65,
     "metadata": {},
     "output_type": "execute_result"
    }
   ],
   "source": [
    "df_joined.limit(5).toPandas()"
   ]
  },
  {
   "cell_type": "code",
   "execution_count": null,
   "id": "2d557100",
   "metadata": {},
   "outputs": [],
   "source": []
  },
  {
   "cell_type": "markdown",
   "id": "0e080db5",
   "metadata": {},
   "source": [
    "https://www.geeksforgeeks.org/how-to-add-a-new-column-to-a-pyspark-dataframe/"
   ]
  },
  {
   "cell_type": "code",
   "execution_count": null,
   "id": "7704aebf",
   "metadata": {},
   "outputs": [],
   "source": []
  }
 ],
 "metadata": {
  "kernelspec": {
   "display_name": "Python 3 (ipykernel)",
   "language": "python",
   "name": "python3"
  },
  "language_info": {
   "codemirror_mode": {
    "name": "ipython",
    "version": 3
   },
   "file_extension": ".py",
   "mimetype": "text/x-python",
   "name": "python",
   "nbconvert_exporter": "python",
   "pygments_lexer": "ipython3",
   "version": "3.9.2"
  }
 },
 "nbformat": 4,
 "nbformat_minor": 5
}
