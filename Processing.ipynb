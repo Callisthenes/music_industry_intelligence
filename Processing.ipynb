{
 "cells": [
  {
   "cell_type": "code",
   "execution_count": 1,
   "id": "6b73c2b0",
   "metadata": {},
   "outputs": [],
   "source": [
    "import findspark\n",
    "findspark.init()"
   ]
  },
  {
   "cell_type": "code",
   "execution_count": 2,
   "id": "f22545ec",
   "metadata": {},
   "outputs": [],
   "source": [
    "import pandas as pd\n",
    "pd.set_option('display.max_colwidth', None)"
   ]
  },
  {
   "cell_type": "code",
   "execution_count": 4,
   "id": "b1dce103",
   "metadata": {},
   "outputs": [
    {
     "name": "stdout",
     "output_type": "stream",
     "text": [
      "This cluster relies on Spark '3.2.1'\n"
     ]
    }
   ],
   "source": [
    "from pyspark.sql.session import SparkSession\n",
    "\n",
    "spark = SparkSession.builder\\\n",
    "                    .appName(\"Spotweet\")\\\n",
    "                    .getOrCreate()\n",
    "\n",
    "print(f\"This cluster relies on Spark '{spark.version}'\")"
   ]
  },
  {
   "cell_type": "markdown",
   "id": "36c19bd4",
   "metadata": {},
   "source": [
    "# Spotify"
   ]
  },
  {
   "cell_type": "code",
   "execution_count": 6,
   "id": "7cc79a8a",
   "metadata": {},
   "outputs": [],
   "source": [
    "from  pyspark.sql.functions import input_file_name\n",
    "\n",
    "# DataFrame creation\n",
    "MainDF = spark.read.csv(\"hdfs://localhost:9000//datalake/raw/spotify/get_artist\")"
   ]
  },
  {
   "cell_type": "markdown",
   "id": "d4f06d58",
   "metadata": {},
   "source": [
    "### Main Artists"
   ]
  },
  {
   "cell_type": "code",
   "execution_count": 8,
   "id": "99a8ff63",
   "metadata": {},
   "outputs": [
    {
     "name": "stdout",
     "output_type": "stream",
     "text": [
      "+--------------------+---------+----------+------------+--------------------+--------------------+\n",
      "|                 _c0|      _c1|       _c2|         _c3|                 _c4|                 _c5|\n",
      "+--------------------+---------+----------+------------+--------------------+--------------------+\n",
      "|              images|followers|popularity|        name|               genre|           artist_id|\n",
      "|https://i.scdn.co...| 51405766|        94|  The Weeknd|canadian contempo...|1Xyo4u8uXC1ZmMpat...|\n",
      "|https://i.scdn.co...| 23987672|        90|Harry Styles|                 pop|6KImCVD70vtIoJWnq...|\n",
      "|https://i.scdn.co...| 57945768|        99|   Bad Bunny|           reggaeton|4q3ewBCX7sLwd24eu...|\n",
      "|https://i.scdn.co...| 14400245|        85| OneRepublic|          piano rock|5Pwc4xIPtQLFEnJri...|\n",
      "+--------------------+---------+----------+------------+--------------------+--------------------+\n",
      "only showing top 5 rows\n",
      "\n"
     ]
    }
   ],
   "source": [
    "MainDF.show(5)"
   ]
  },
  {
   "cell_type": "code",
   "execution_count": 11,
   "id": "31a9c364",
   "metadata": {},
   "outputs": [],
   "source": [
    "MainDF= spark.read.option(\"header\",\"true\").csv(\"hdfs://localhost:9000//datalake/raw/spotify/get_artist\")"
   ]
  },
  {
   "cell_type": "code",
   "execution_count": 13,
   "id": "dbc2bcbb",
   "metadata": {},
   "outputs": [
    {
     "name": "stdout",
     "output_type": "stream",
     "text": [
      "+--------------------+---------+----------+------------+--------------------+--------------------+\n",
      "|              images|followers|popularity|        name|               genre|           artist_id|\n",
      "+--------------------+---------+----------+------------+--------------------+--------------------+\n",
      "|https://i.scdn.co...| 51405766|        94|  The Weeknd|canadian contempo...|1Xyo4u8uXC1ZmMpat...|\n",
      "|https://i.scdn.co...| 23987672|        90|Harry Styles|                 pop|6KImCVD70vtIoJWnq...|\n",
      "|https://i.scdn.co...| 57945768|        99|   Bad Bunny|           reggaeton|4q3ewBCX7sLwd24eu...|\n",
      "|https://i.scdn.co...| 14400245|        85| OneRepublic|          piano rock|5Pwc4xIPtQLFEnJri...|\n",
      "|https://i.scdn.co...|  6291069|        77| John Legend|          neo mellow|5y2Xq6xcjJb2jVM54...|\n",
      "+--------------------+---------+----------+------------+--------------------+--------------------+\n",
      "\n"
     ]
    }
   ],
   "source": [
    "MainDF.show(5)"
   ]
  },
  {
   "cell_type": "markdown",
   "id": "e10c4069",
   "metadata": {},
   "source": [
    "### Related Artists"
   ]
  },
  {
   "cell_type": "code",
   "execution_count": 109,
   "id": "802a0a3b",
   "metadata": {},
   "outputs": [],
   "source": [
    "DF_Related= spark.read.option(\"header\",\"true\").csv(\"hdfs://localhost:9000//datalake/raw/spotify/get_related_artist/*\")"
   ]
  },
  {
   "cell_type": "code",
   "execution_count": 110,
   "id": "49b54413",
   "metadata": {},
   "outputs": [
    {
     "name": "stdout",
     "output_type": "stream",
     "text": [
      "+--------------------+---------+----------+-----------------+----------------+--------------------+--------------------+\n",
      "|              images|followers|popularity|             name|           genre|                  id|           artist_id|\n",
      "+--------------------+---------+----------+-----------------+----------------+--------------------+--------------------+\n",
      "|https://i.scdn.co...|  1892473|        63|     Robin Thicke|contemporary r&b|0ZrpamOxcZybMHGg1...|5y2Xq6xcjJb2jVM54...|\n",
      "|https://i.scdn.co...|  1411870|        59| Anthony Hamilton|contemporary r&b|2DzRMyWgjuMbYvt5B...|5y2Xq6xcjJb2jVM54...|\n",
      "|https://i.scdn.co...|  1531634|        58|          Maxwell|contemporary r&b|2AOt5htsbtyaHd5Eq...|5y2Xq6xcjJb2jVM54...|\n",
      "|https://i.scdn.co...|  1796917|        64| Jazmine Sullivan| alternative r&b|7gSjFKpVmDgC2MMsn...|5y2Xq6xcjJb2jVM54...|\n",
      "|https://i.scdn.co...|  1600813|        57|       Jill Scott|            funk|6AVLthptCPhfrxlHa...|5y2Xq6xcjJb2jVM54...|\n",
      "|https://i.scdn.co...|  1034357|        59|  Musiq Soulchild|contemporary r&b|3UVRliakQfa1pMWIs...|5y2Xq6xcjJb2jVM54...|\n",
      "|https://i.scdn.co...|  2891247|        65|            Mario|       dance pop|20s0P9QLxGqKuCsGw...|5y2Xq6xcjJb2jVM54...|\n",
      "|https://i.scdn.co...|   532629|        55|Chrisette Michele|contemporary r&b|3YJMzGjAm245zwJoo...|5y2Xq6xcjJb2jVM54...|\n",
      "|https://i.scdn.co...|   825678|        55|       India.Arie|       high vibe|7Gf3LSwa5hh8Cjo60...|5y2Xq6xcjJb2jVM54...|\n",
      "|https://i.scdn.co...|   203340|        58|        PJ Morton|        neo soul|2FMOHE79X98yptp4R...|5y2Xq6xcjJb2jVM54...|\n",
      "|https://i.scdn.co...|  1058304|        55|     Donell Jones|contemporary r&b|5KNqYrivNgVCHBssE...|5y2Xq6xcjJb2jVM54...|\n",
      "|https://i.scdn.co...|  1590664|        64|              Joe|contemporary r&b|3zTOe1BtyTkwNvYZO...|5y2Xq6xcjJb2jVM54...|\n",
      "|https://i.scdn.co...|  1023215|        68|       Jamie Foxx|         hip hop|7LnaAXbDVIL75IVPn...|5y2Xq6xcjJb2jVM54...|\n",
      "|https://i.scdn.co...|  2159260|        56|           Tyrese|contemporary r&b|08p7B5OtcUuVblvkQ...|5y2Xq6xcjJb2jVM54...|\n",
      "|https://i.scdn.co...|  1803224|        57|         Fantasia|contemporary r&b|7xAcVHPiirnUqfdqo...|5y2Xq6xcjJb2jVM54...|\n",
      "|https://i.scdn.co...|   478677|        48|  Raheem DeVaughn|contemporary r&b|59NO6KX7wQCG7jGdt...|5y2Xq6xcjJb2jVM54...|\n",
      "|https://i.scdn.co...|  1264802|        54|           Jaheim|contemporary r&b|4sbB4Yy6Qig51pKCI...|5y2Xq6xcjJb2jVM54...|\n",
      "|https://i.scdn.co...|  1395055|        61|            Tamia|    canadian pop|0le01dl1WllSHhjEX...|5y2Xq6xcjJb2jVM54...|\n",
      "|https://i.scdn.co...|   603702|        49|       Eric Benét|contemporary r&b|1kjO72M26jZkv0aaG...|5y2Xq6xcjJb2jVM54...|\n",
      "|https://i.scdn.co...|   895665|        61|         Babyface|contemporary r&b|3aVoqlJOYx31lH1gi...|5y2Xq6xcjJb2jVM54...|\n",
      "|https://i.scdn.co...|  3740705|        69|         The Fray|      neo mellow|0zOcE3mg9nS6l3yxt...|5Pwc4xIPtQLFEnJri...|\n",
      "|https://i.scdn.co...|  7529029|        73|       The Script|     celtic rock|3AQRLZ9PuTAozP28S...|5Pwc4xIPtQLFEnJri...|\n",
      "|https://i.scdn.co...|  1407313|        66| American Authors| indie poptimism|0MlOPi3zIDMVrfA9R...|5Pwc4xIPtQLFEnJri...|\n",
      "|https://i.scdn.co...| 38313865|        85|         Maroon 5|             pop|04gDigrS5kc9YWfZH...|5Pwc4xIPtQLFEnJri...|\n",
      "|https://i.scdn.co...|  1224945|        62|     Gavin DeGraw|      neo mellow|5DYAABs8rkY9VhwtE...|5Pwc4xIPtQLFEnJri...|\n",
      "+--------------------+---------+----------+-----------------+----------------+--------------------+--------------------+\n",
      "only showing top 25 rows\n",
      "\n"
     ]
    }
   ],
   "source": [
    "DF_Related.show(25)"
   ]
  },
  {
   "cell_type": "markdown",
   "id": "6c9a4701",
   "metadata": {},
   "source": [
    "### Pending : taking top 5 records from each"
   ]
  },
  {
   "cell_type": "markdown",
   "id": "84bb4b8b",
   "metadata": {},
   "source": [
    "## Top Artist Tracks"
   ]
  },
  {
   "cell_type": "code",
   "execution_count": 112,
   "id": "f5f07852",
   "metadata": {},
   "outputs": [],
   "source": [
    "# DataFrame creation\n",
    "Tracks_DF = spark.read.option(\"header\",\"true\").csv(\"hdfs://localhost:9000//datalake/raw/spotify/get_top_tracks/*\")"
   ]
  },
  {
   "cell_type": "code",
   "execution_count": 113,
   "id": "c9a08466",
   "metadata": {},
   "outputs": [
    {
     "name": "stdout",
     "output_type": "stream",
     "text": [
      "+-----------+------------+--------------------+--------------------+---------------+--------------------+--------------------+\n",
      "|duration_ms|release_date|          artists_id|                name|   artists_name|                  id|           artist_id|\n",
      "+-----------+------------+--------------------+--------------------+---------------+--------------------+--------------------+\n",
      "|     269560|  2013-08-30|5y2Xq6xcjJb2jVM54...|           All of Me|    John Legend|3U4isOIWM3VvDubwS...|5y2Xq6xcjJb2jVM54...|\n",
      "|     501648|  2022-08-26|0QHgL1lAIqAw0HtD7...|GOD DID (feat. Ri...|      DJ Khaled|2sOj9vyd6yiss9W1I...|5y2Xq6xcjJb2jVM54...|\n",
      "|     168562|  2022-09-09|5y2Xq6xcjJb2jVM54...|        Wonder Woman|    John Legend|3BLWGYOcy1svvsBBy...|5y2Xq6xcjJb2jVM54...|\n",
      "|     190605|  2022-05-19|5NhgsV7qPWHZqYEMK...|          Minefields|        Faouzia|0vH52Icuf6LzOFrkH...|5y2Xq6xcjJb2jVM54...|\n",
      "|     188046|  2022-09-09|5y2Xq6xcjJb2jVM54...|             Nervous|    John Legend|1XNAH3h63O1hWFcgy...|5y2Xq6xcjJb2jVM54...|\n",
      "|     196906|  2020-06-19|5y2Xq6xcjJb2jVM54...|Wild (feat. Gary ...|    John Legend|4rVW6XqAsSaf5vOwc...|5y2Xq6xcjJb2jVM54...|\n",
      "|     281466|  2005-12-06|5y2Xq6xcjJb2jVM54...|     Ordinary People|    John Legend|2ZA4uMlSZjaoWGFqP...|5y2Xq6xcjJb2jVM54...|\n",
      "|     227928|  2017-03-10|66CXWjxzNUsdJxJ2J...|Beauty and the Beast|  Ariana Grande|7wMPhUSe6CZga1vOM...|5y2Xq6xcjJb2jVM54...|\n",
      "|     210293|  2016-12-02|5y2Xq6xcjJb2jVM54...|         Love Me Now|    John Legend|6nxQdXa1uAL0rY72w...|5y2Xq6xcjJb2jVM54...|\n",
      "|     189373|  2022-07-29|07YUOmWljBTXwIseA...|       Tacones Rojos|Sebastian Yatra|4slJBQR5P1JjEH9HF...|5y2Xq6xcjJb2jVM54...|\n",
      "|     200040|  2020-03-20|1Xyo4u8uXC1ZmMpat...|     Blinding Lights|     The Weeknd|0VjIjW4GlUZAMYd2v...|1Xyo4u8uXC1ZmMpat...|\n",
      "|     241066|  2018-03-30|1Xyo4u8uXC1ZmMpat...|   I Was Never There|     The Weeknd|1cKHdTo9u0ZymJdPG...|1Xyo4u8uXC1ZmMpat...|\n",
      "|     230453|  2016-11-25|1Xyo4u8uXC1ZmMpat...|             Starboy|     The Weeknd|7MXVkk9YMctZqd1Sr...|1Xyo4u8uXC1ZmMpat...|\n",
      "|     228373|  2018-03-30|1Xyo4u8uXC1ZmMpat...|    Call Out My Name|     The Weeknd|09mEdoA6zrmBPgTEN...|1Xyo4u8uXC1ZmMpat...|\n",
      "|     215626|  2020-03-20|1Xyo4u8uXC1ZmMpat...|     Save Your Tears|     The Weeknd|5QO79kh1waicV47Bq...|1Xyo4u8uXC1ZmMpat...|\n",
      "|     260253|  2016-11-24|1Xyo4u8uXC1ZmMpat...|         Die For You|     The Weeknd|2LBqCSwhJGcFQeTHM...|1Xyo4u8uXC1ZmMpat...|\n",
      "|     242253|  2015-08-28|1Xyo4u8uXC1ZmMpat...|           The Hills|     The Weeknd|7fBv7CLKzipRk6EC6...|1Xyo4u8uXC1ZmMpat...|\n",
      "|     202093|  2019-03-08|3hteYQFiMFbJY7wS0...|Lost in the Fire ...|  Gesaffelstein|2vXKRlJBXyOcvZYTd...|1Xyo4u8uXC1ZmMpat...|\n",
      "|     191013|  2020-03-20|1Xyo4u8uXC1ZmMpat...|Save Your Tears (...|     The Weeknd|1oFAF1hdPOickyHgb...|1Xyo4u8uXC1ZmMpat...|\n",
      "|     186173|  2021-06-25|5cj0lLjcoR7YOSnhn...|           You Right|       Doja Cat|0k4d5YPDr1r7FX77V...|1Xyo4u8uXC1ZmMpat...|\n",
      "|     167303|  2022-05-20|6KImCVD70vtIoJWnq...|           As It Was|   Harry Styles|4Dvkj6JhhA12EX05f...|6KImCVD70vtIoJWnq...|\n",
      "|     177954|  2022-05-20|6KImCVD70vtIoJWnq...|  Late Night Talking|   Harry Styles|1qEmFfgcLObUfQm0j...|6KImCVD70vtIoJWnq...|\n",
      "|     174000|  2019-12-13|6KImCVD70vtIoJWnq...|    Watermelon Sugar|   Harry Styles|6UelLqGlWMcVH1E5c...|6KImCVD70vtIoJWnq...|\n",
      "|     245964|  2022-05-20|6KImCVD70vtIoJWnq...|             Matilda|   Harry Styles|6uvh0In7u1Xn4HgxO...|6KImCVD70vtIoJWnq...|\n",
      "|     207133|  2019-12-13|6KImCVD70vtIoJWnq...|           Adore You|   Harry Styles|3jjujdWJ72nww5eGn...|6KImCVD70vtIoJWnq...|\n",
      "+-----------+------------+--------------------+--------------------+---------------+--------------------+--------------------+\n",
      "only showing top 25 rows\n",
      "\n"
     ]
    }
   ],
   "source": [
    "Tracks_DF.show(25)"
   ]
  },
  {
   "cell_type": "markdown",
   "id": "271af891",
   "metadata": {},
   "source": [
    "# Twitter"
   ]
  },
  {
   "cell_type": "code",
   "execution_count": 64,
   "id": "cbc1cbbd",
   "metadata": {},
   "outputs": [],
   "source": [
    "# DataFrame creation\n",
    "Agg_Tweet_DF = spark.read.json(\"hdfs://localhost:9000//datalake/raw/aggregate_tweetpy_queries/*\")"
   ]
  },
  {
   "cell_type": "code",
   "execution_count": 65,
   "id": "f3652c37",
   "metadata": {},
   "outputs": [],
   "source": [
    "Agg_Tweet_DF= Agg_Tweet_DF.withColumn(\"filename\", input_file_name())"
   ]
  },
  {
   "cell_type": "code",
   "execution_count": 66,
   "id": "c9534488",
   "metadata": {},
   "outputs": [
    {
     "name": "stdout",
     "output_type": "stream",
     "text": [
      "+--------------------+--------------------+-----------+--------------------+\n",
      "|                 end|               start|tweet_count|            filename|\n",
      "+--------------------+--------------------+-----------+--------------------+\n",
      "|2022-09-01T00:00:...|2022-08-31T00:00:...|       1002|hdfs://localhost:...|\n",
      "|2022-09-02T00:00:...|2022-09-01T00:00:...|       1383|hdfs://localhost:...|\n",
      "|2022-09-03T00:00:...|2022-09-02T00:00:...|       1217|hdfs://localhost:...|\n",
      "|2022-09-04T00:00:...|2022-09-03T00:00:...|        203|hdfs://localhost:...|\n",
      "|2022-09-05T00:00:...|2022-09-04T00:00:...|        173|hdfs://localhost:...|\n",
      "|2022-09-06T00:00:...|2022-09-05T00:00:...|        140|hdfs://localhost:...|\n",
      "|2022-09-07T00:00:...|2022-09-06T00:00:...|       4456|hdfs://localhost:...|\n",
      "|2022-09-08T00:00:...|2022-09-07T00:00:...|       1880|hdfs://localhost:...|\n",
      "|2022-09-09T00:00:...|2022-09-08T00:00:...|       2981|hdfs://localhost:...|\n",
      "|2022-09-10T00:00:...|2022-09-09T00:00:...|       2153|hdfs://localhost:...|\n",
      "|2022-09-11T00:00:...|2022-09-10T00:00:...|        602|hdfs://localhost:...|\n",
      "|2022-09-12T00:00:...|2022-09-11T00:00:...|       2525|hdfs://localhost:...|\n",
      "|2022-09-13T00:00:...|2022-09-12T00:00:...|       1648|hdfs://localhost:...|\n",
      "|2022-09-14T00:00:...|2022-09-13T00:00:...|        566|hdfs://localhost:...|\n",
      "|2022-09-15T00:00:...|2022-09-14T00:00:...|      13840|hdfs://localhost:...|\n",
      "|2022-09-16T00:00:...|2022-09-15T00:00:...|       3895|hdfs://localhost:...|\n",
      "|2022-09-17T00:00:...|2022-09-16T00:00:...|        826|hdfs://localhost:...|\n",
      "|2022-09-18T00:00:...|2022-09-17T00:00:...|        301|hdfs://localhost:...|\n",
      "|2022-09-19T00:00:...|2022-09-18T00:00:...|        707|hdfs://localhost:...|\n",
      "|2022-09-20T00:00:...|2022-09-19T00:00:...|        363|hdfs://localhost:...|\n",
      "|2022-09-21T00:00:...|2022-09-20T00:00:...|       4408|hdfs://localhost:...|\n",
      "|2022-09-22T00:00:...|2022-09-21T00:00:...|       2506|hdfs://localhost:...|\n",
      "|2022-09-23T00:00:...|2022-09-22T00:00:...|        948|hdfs://localhost:...|\n",
      "|2022-09-24T00:00:...|2022-09-23T00:00:...|       1625|hdfs://localhost:...|\n",
      "|2022-09-25T00:00:...|2022-09-24T00:00:...|       2999|hdfs://localhost:...|\n",
      "+--------------------+--------------------+-----------+--------------------+\n",
      "only showing top 25 rows\n",
      "\n"
     ]
    }
   ],
   "source": [
    "Agg_Tweet_DF.show(25)"
   ]
  },
  {
   "cell_type": "code",
   "execution_count": 67,
   "id": "4c33a5a3",
   "metadata": {},
   "outputs": [],
   "source": [
    "from pyspark.sql import functions as F"
   ]
  },
  {
   "cell_type": "code",
   "execution_count": 70,
   "id": "c9a5bee4",
   "metadata": {},
   "outputs": [],
   "source": [
    "Twitter_DF = Agg_Tweet_DF.withColumn(\"filename\", F.regexp_replace(\"filename\", \"hdfs://localhost:9000//datalake/raw/aggregate_tweetpy_queries\", \"\"))"
   ]
  },
  {
   "cell_type": "code",
   "execution_count": 71,
   "id": "aa1518d9",
   "metadata": {},
   "outputs": [
    {
     "name": "stdout",
     "output_type": "stream",
     "text": [
      "+--------------------+--------------------+-----------+--------------------+\n",
      "|                 end|               start|tweet_count|            filename|\n",
      "+--------------------+--------------------+-----------+--------------------+\n",
      "|2022-09-01T00:00:...|2022-08-31T00:00:...|       1002|hdfs://localhost:...|\n",
      "|2022-09-02T00:00:...|2022-09-01T00:00:...|       1383|hdfs://localhost:...|\n",
      "|2022-09-03T00:00:...|2022-09-02T00:00:...|       1217|hdfs://localhost:...|\n",
      "|2022-09-04T00:00:...|2022-09-03T00:00:...|        203|hdfs://localhost:...|\n",
      "|2022-09-05T00:00:...|2022-09-04T00:00:...|        173|hdfs://localhost:...|\n",
      "|2022-09-06T00:00:...|2022-09-05T00:00:...|        140|hdfs://localhost:...|\n",
      "|2022-09-07T00:00:...|2022-09-06T00:00:...|       4456|hdfs://localhost:...|\n",
      "|2022-09-08T00:00:...|2022-09-07T00:00:...|       1880|hdfs://localhost:...|\n",
      "|2022-09-09T00:00:...|2022-09-08T00:00:...|       2981|hdfs://localhost:...|\n",
      "|2022-09-10T00:00:...|2022-09-09T00:00:...|       2153|hdfs://localhost:...|\n",
      "|2022-09-11T00:00:...|2022-09-10T00:00:...|        602|hdfs://localhost:...|\n",
      "|2022-09-12T00:00:...|2022-09-11T00:00:...|       2525|hdfs://localhost:...|\n",
      "|2022-09-13T00:00:...|2022-09-12T00:00:...|       1648|hdfs://localhost:...|\n",
      "|2022-09-14T00:00:...|2022-09-13T00:00:...|        566|hdfs://localhost:...|\n",
      "|2022-09-15T00:00:...|2022-09-14T00:00:...|      13840|hdfs://localhost:...|\n",
      "|2022-09-16T00:00:...|2022-09-15T00:00:...|       3895|hdfs://localhost:...|\n",
      "|2022-09-17T00:00:...|2022-09-16T00:00:...|        826|hdfs://localhost:...|\n",
      "|2022-09-18T00:00:...|2022-09-17T00:00:...|        301|hdfs://localhost:...|\n",
      "|2022-09-19T00:00:...|2022-09-18T00:00:...|        707|hdfs://localhost:...|\n",
      "|2022-09-20T00:00:...|2022-09-19T00:00:...|        363|hdfs://localhost:...|\n",
      "+--------------------+--------------------+-----------+--------------------+\n",
      "only showing top 20 rows\n",
      "\n"
     ]
    }
   ],
   "source": [
    "Twitter_DF.show()"
   ]
  },
  {
   "cell_type": "code",
   "execution_count": 74,
   "id": "0b92f7b8",
   "metadata": {},
   "outputs": [],
   "source": [
    "Twitter_DF2 = Agg_Tweet_DF.withColumn(\"filename\", F.regexp_replace(\"filename\", \"hdfs://localhost:9000//datalake/raw/aggregate_tweetpy_queries\",\"\"))"
   ]
  },
  {
   "cell_type": "code",
   "execution_count": 79,
   "id": "ba5cf1b6",
   "metadata": {},
   "outputs": [],
   "source": [
    "Twitter_DF3 = Agg_Tweet_DF.withColumn(\"filename\", F.regexp_replace(\"filename\", \"hdfs://localhost:9000\",\"\"))"
   ]
  },
  {
   "cell_type": "code",
   "execution_count": 80,
   "id": "018ad875",
   "metadata": {},
   "outputs": [
    {
     "name": "stdout",
     "output_type": "stream",
     "text": [
      "+--------------------+--------------------+-----------+--------------------+\n",
      "|                 end|               start|tweet_count|            filename|\n",
      "+--------------------+--------------------+-----------+--------------------+\n",
      "|2022-09-01T00:00:...|2022-08-31T00:00:...|       1002|/datalake/raw/agg...|\n",
      "|2022-09-02T00:00:...|2022-09-01T00:00:...|       1383|/datalake/raw/agg...|\n",
      "|2022-09-03T00:00:...|2022-09-02T00:00:...|       1217|/datalake/raw/agg...|\n",
      "|2022-09-04T00:00:...|2022-09-03T00:00:...|        203|/datalake/raw/agg...|\n",
      "|2022-09-05T00:00:...|2022-09-04T00:00:...|        173|/datalake/raw/agg...|\n",
      "|2022-09-06T00:00:...|2022-09-05T00:00:...|        140|/datalake/raw/agg...|\n",
      "|2022-09-07T00:00:...|2022-09-06T00:00:...|       4456|/datalake/raw/agg...|\n",
      "|2022-09-08T00:00:...|2022-09-07T00:00:...|       1880|/datalake/raw/agg...|\n",
      "|2022-09-09T00:00:...|2022-09-08T00:00:...|       2981|/datalake/raw/agg...|\n",
      "|2022-09-10T00:00:...|2022-09-09T00:00:...|       2153|/datalake/raw/agg...|\n",
      "|2022-09-11T00:00:...|2022-09-10T00:00:...|        602|/datalake/raw/agg...|\n",
      "|2022-09-12T00:00:...|2022-09-11T00:00:...|       2525|/datalake/raw/agg...|\n",
      "|2022-09-13T00:00:...|2022-09-12T00:00:...|       1648|/datalake/raw/agg...|\n",
      "|2022-09-14T00:00:...|2022-09-13T00:00:...|        566|/datalake/raw/agg...|\n",
      "|2022-09-15T00:00:...|2022-09-14T00:00:...|      13840|/datalake/raw/agg...|\n",
      "|2022-09-16T00:00:...|2022-09-15T00:00:...|       3895|/datalake/raw/agg...|\n",
      "|2022-09-17T00:00:...|2022-09-16T00:00:...|        826|/datalake/raw/agg...|\n",
      "|2022-09-18T00:00:...|2022-09-17T00:00:...|        301|/datalake/raw/agg...|\n",
      "|2022-09-19T00:00:...|2022-09-18T00:00:...|        707|/datalake/raw/agg...|\n",
      "|2022-09-20T00:00:...|2022-09-19T00:00:...|        363|/datalake/raw/agg...|\n",
      "+--------------------+--------------------+-----------+--------------------+\n",
      "only showing top 20 rows\n",
      "\n"
     ]
    }
   ],
   "source": [
    "Twitter_DF3.show()"
   ]
  },
  {
   "cell_type": "code",
   "execution_count": 83,
   "id": "b78116a6",
   "metadata": {},
   "outputs": [],
   "source": [
    "Twitter_DF4 = Twitter_DF3.withColumn(\"filename\", F.regexp_replace(\"filename\", \"/datalake/raw/aggregate_tweetpy_queries\",\"\"))"
   ]
  },
  {
   "cell_type": "code",
   "execution_count": 84,
   "id": "314549d1",
   "metadata": {},
   "outputs": [
    {
     "name": "stdout",
     "output_type": "stream",
     "text": [
      "+--------------------+--------------------+-----------+--------------------+\n",
      "|                 end|               start|tweet_count|            filename|\n",
      "+--------------------+--------------------+-----------+--------------------+\n",
      "|2022-09-01T00:00:...|2022-08-31T00:00:...|       1002|/brent_faiyaz/Bre...|\n",
      "|2022-09-02T00:00:...|2022-09-01T00:00:...|       1383|/brent_faiyaz/Bre...|\n",
      "|2022-09-03T00:00:...|2022-09-02T00:00:...|       1217|/brent_faiyaz/Bre...|\n",
      "|2022-09-04T00:00:...|2022-09-03T00:00:...|        203|/brent_faiyaz/Bre...|\n",
      "|2022-09-05T00:00:...|2022-09-04T00:00:...|        173|/brent_faiyaz/Bre...|\n",
      "|2022-09-06T00:00:...|2022-09-05T00:00:...|        140|/brent_faiyaz/Bre...|\n",
      "|2022-09-07T00:00:...|2022-09-06T00:00:...|       4456|/brent_faiyaz/Bre...|\n",
      "|2022-09-08T00:00:...|2022-09-07T00:00:...|       1880|/brent_faiyaz/Bre...|\n",
      "|2022-09-09T00:00:...|2022-09-08T00:00:...|       2981|/brent_faiyaz/Bre...|\n",
      "|2022-09-10T00:00:...|2022-09-09T00:00:...|       2153|/brent_faiyaz/Bre...|\n",
      "|2022-09-11T00:00:...|2022-09-10T00:00:...|        602|/brent_faiyaz/Bre...|\n",
      "|2022-09-12T00:00:...|2022-09-11T00:00:...|       2525|/brent_faiyaz/Bre...|\n",
      "|2022-09-13T00:00:...|2022-09-12T00:00:...|       1648|/brent_faiyaz/Bre...|\n",
      "|2022-09-14T00:00:...|2022-09-13T00:00:...|        566|/brent_faiyaz/Bre...|\n",
      "|2022-09-15T00:00:...|2022-09-14T00:00:...|      13840|/brent_faiyaz/Bre...|\n",
      "|2022-09-16T00:00:...|2022-09-15T00:00:...|       3895|/brent_faiyaz/Bre...|\n",
      "|2022-09-17T00:00:...|2022-09-16T00:00:...|        826|/brent_faiyaz/Bre...|\n",
      "|2022-09-18T00:00:...|2022-09-17T00:00:...|        301|/brent_faiyaz/Bre...|\n",
      "|2022-09-19T00:00:...|2022-09-18T00:00:...|        707|/brent_faiyaz/Bre...|\n",
      "|2022-09-20T00:00:...|2022-09-19T00:00:...|        363|/brent_faiyaz/Bre...|\n",
      "+--------------------+--------------------+-----------+--------------------+\n",
      "only showing top 20 rows\n",
      "\n"
     ]
    }
   ],
   "source": [
    "Twitter_DF4.show()"
   ]
  },
  {
   "cell_type": "code",
   "execution_count": 94,
   "id": "4f3ae0b1",
   "metadata": {},
   "outputs": [],
   "source": [
    "Twitter_DF5 = Twitter_DF4.withColumn(\"filename\", F.regexp_replace(\"filename\", \"/*/\",\"\"))"
   ]
  },
  {
   "cell_type": "code",
   "execution_count": 95,
   "id": "77a03451",
   "metadata": {},
   "outputs": [
    {
     "name": "stdout",
     "output_type": "stream",
     "text": [
      "+--------------------+--------------------+-----------+--------------------+\n",
      "|                 end|               start|tweet_count|            filename|\n",
      "+--------------------+--------------------+-----------+--------------------+\n",
      "|2022-09-01T00:00:...|2022-08-31T00:00:...|       1002|brent_faiyazBrent...|\n",
      "|2022-09-02T00:00:...|2022-09-01T00:00:...|       1383|brent_faiyazBrent...|\n",
      "|2022-09-03T00:00:...|2022-09-02T00:00:...|       1217|brent_faiyazBrent...|\n",
      "|2022-09-04T00:00:...|2022-09-03T00:00:...|        203|brent_faiyazBrent...|\n",
      "|2022-09-05T00:00:...|2022-09-04T00:00:...|        173|brent_faiyazBrent...|\n",
      "|2022-09-06T00:00:...|2022-09-05T00:00:...|        140|brent_faiyazBrent...|\n",
      "|2022-09-07T00:00:...|2022-09-06T00:00:...|       4456|brent_faiyazBrent...|\n",
      "|2022-09-08T00:00:...|2022-09-07T00:00:...|       1880|brent_faiyazBrent...|\n",
      "|2022-09-09T00:00:...|2022-09-08T00:00:...|       2981|brent_faiyazBrent...|\n",
      "|2022-09-10T00:00:...|2022-09-09T00:00:...|       2153|brent_faiyazBrent...|\n",
      "|2022-09-11T00:00:...|2022-09-10T00:00:...|        602|brent_faiyazBrent...|\n",
      "|2022-09-12T00:00:...|2022-09-11T00:00:...|       2525|brent_faiyazBrent...|\n",
      "|2022-09-13T00:00:...|2022-09-12T00:00:...|       1648|brent_faiyazBrent...|\n",
      "|2022-09-14T00:00:...|2022-09-13T00:00:...|        566|brent_faiyazBrent...|\n",
      "|2022-09-15T00:00:...|2022-09-14T00:00:...|      13840|brent_faiyazBrent...|\n",
      "|2022-09-16T00:00:...|2022-09-15T00:00:...|       3895|brent_faiyazBrent...|\n",
      "|2022-09-17T00:00:...|2022-09-16T00:00:...|        826|brent_faiyazBrent...|\n",
      "|2022-09-18T00:00:...|2022-09-17T00:00:...|        301|brent_faiyazBrent...|\n",
      "|2022-09-19T00:00:...|2022-09-18T00:00:...|        707|brent_faiyazBrent...|\n",
      "|2022-09-20T00:00:...|2022-09-19T00:00:...|        363|brent_faiyazBrent...|\n",
      "+--------------------+--------------------+-----------+--------------------+\n",
      "only showing top 20 rows\n",
      "\n"
     ]
    }
   ],
   "source": [
    "Twitter_DF5.show()"
   ]
  },
  {
   "cell_type": "code",
   "execution_count": 96,
   "id": "0107a6dc",
   "metadata": {},
   "outputs": [],
   "source": [
    "# Total Tweets per Artist"
   ]
  },
  {
   "cell_type": "code",
   "execution_count": 104,
   "id": "01b9f5e3",
   "metadata": {},
   "outputs": [],
   "source": [
    "Twitter_DF6 = Twitter_DF5.groupBy(\"filename\") \\\n",
    "  .sum(\"tweet_count\") \\\n",
    "  .withColumnRenamed(\"sum(tweet_count)\", \"Total_Tweets\")\\\n",
    "  .withColumnRenamed(\"filename\", \"Artist\")"
   ]
  },
  {
   "cell_type": "code",
   "execution_count": 105,
   "id": "19c40de9",
   "metadata": {},
   "outputs": [
    {
     "name": "stderr",
     "output_type": "stream",
     "text": [
      "[Stage 52:>                                                         (0 + 2) / 2]\r"
     ]
    },
    {
     "name": "stdout",
     "output_type": "stream",
     "text": [
      "+--------------------+------------+\n",
      "|              Artist|Total_Tweets|\n",
      "+--------------------+------------+\n",
      "|one_republicOne%2...|       48207|\n",
      "|harry_stylesHarry...|      169375|\n",
      "|bad_bunnyBad%20Bunny|       57272|\n",
      "|john_legendJohn%2...|      191562|\n",
      "|          jcoleJCole|      216472|\n",
      "|brent_faiyazBrent...|      158075|\n",
      "|          6lack6lack|       22663|\n",
      "|majid_jordanMajid...|         383|\n",
      "|partynextdoorPart...|       31616|\n",
      "|bryson_tillerBrys...|        8681|\n",
      "| the_weekndTheweeknd|       20822|\n",
      "+--------------------+------------+\n",
      "\n"
     ]
    },
    {
     "name": "stderr",
     "output_type": "stream",
     "text": [
      "                                                                                \r"
     ]
    }
   ],
   "source": [
    "Twitter_DF6.show()"
   ]
  },
  {
   "cell_type": "markdown",
   "id": "672392b5",
   "metadata": {},
   "source": [
    "### Pending from twitter"
   ]
  },
  {
   "cell_type": "markdown",
   "id": "4077ebee",
   "metadata": {},
   "source": [
    "Clean file name"
   ]
  },
  {
   "cell_type": "markdown",
   "id": "aec85484",
   "metadata": {},
   "source": [
    "## Pending Overall"
   ]
  },
  {
   "cell_type": "markdown",
   "id": "d7ed4ec0",
   "metadata": {},
   "source": [
    "clean Artist names and join accordingly"
   ]
  },
  {
   "cell_type": "code",
   "execution_count": null,
   "id": "4dd19ab0",
   "metadata": {},
   "outputs": [],
   "source": []
  }
 ],
 "metadata": {
  "kernelspec": {
   "display_name": "Python 3 (ipykernel)",
   "language": "python",
   "name": "python3"
  },
  "language_info": {
   "codemirror_mode": {
    "name": "ipython",
    "version": 3
   },
   "file_extension": ".py",
   "mimetype": "text/x-python",
   "name": "python",
   "nbconvert_exporter": "python",
   "pygments_lexer": "ipython3",
   "version": "3.9.2"
  }
 },
 "nbformat": 4,
 "nbformat_minor": 5
}
