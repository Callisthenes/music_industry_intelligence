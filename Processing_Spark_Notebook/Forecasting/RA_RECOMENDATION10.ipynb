{
 "cells": [
  {
   "cell_type": "markdown",
   "id": "8c3a7abc",
   "metadata": {},
   "source": [
    "## OPENING A PYSPARK SESSION"
   ]
  },
  {
   "cell_type": "code",
   "execution_count": 3,
   "id": "31357964",
   "metadata": {},
   "outputs": [
    {
     "data": {
      "text/html": [
       "<style>.container { width:100% !important; }</style>"
      ],
      "text/plain": [
       "<IPython.core.display.HTML object>"
      ]
     },
     "metadata": {},
     "output_type": "display_data"
    }
   ],
   "source": [
    "from IPython.display import display, HTML\n",
    "display(HTML(\"<style>.container { width:100% !important; }</style>\"))"
   ]
  },
  {
   "cell_type": "code",
   "execution_count": 4,
   "id": "e8a094c9",
   "metadata": {},
   "outputs": [],
   "source": [
    "import os\n",
    "os.environ['PYSPARK_SUBMIT_ARGS'] =  '--jars /usr/share/java/mariadb-java-client.jar pyspark-shell'"
   ]
  },
  {
   "cell_type": "code",
   "execution_count": 5,
   "id": "fce9b856",
   "metadata": {},
   "outputs": [],
   "source": [
    "import findspark\n",
    "findspark.init()"
   ]
  },
  {
   "cell_type": "code",
   "execution_count": 6,
   "id": "9d4d817f",
   "metadata": {},
   "outputs": [],
   "source": [
    "import pandas as pd\n",
    "pd.set_option('display.max_colwidth', None)"
   ]
  },
  {
   "cell_type": "code",
   "execution_count": 7,
   "id": "65342cff",
   "metadata": {},
   "outputs": [
    {
     "name": "stderr",
     "output_type": "stream",
     "text": [
      "WARNING: An illegal reflective access operation has occurred\n",
      "WARNING: Illegal reflective access by org.apache.spark.unsafe.Platform (file:/opt/spark3/jars/spark-unsafe_2.12-3.2.1.jar) to constructor java.nio.DirectByteBuffer(long,int)\n",
      "WARNING: Please consider reporting this to the maintainers of org.apache.spark.unsafe.Platform\n",
      "WARNING: Use --illegal-access=warn to enable warnings of further illegal reflective access operations\n",
      "WARNING: All illegal access operations will be denied in a future release\n",
      "Setting default log level to \"WARN\".\n",
      "To adjust logging level use sc.setLogLevel(newLevel). For SparkR, use setLogLevel(newLevel).\n"
     ]
    },
    {
     "name": "stdout",
     "output_type": "stream",
     "text": [
      "This cluster relies on Spark '3.2.1'\n"
     ]
    }
   ],
   "source": [
    "from pyspark.sql.session import SparkSession\n",
    "spark = SparkSession.builder\\\n",
    ".appName(\"artists recomendation\")\\\n",
    ".getOrCreate()\n",
    "print(f\"This cluster relies on Spark '{spark.version}'\")"
   ]
  },
  {
   "cell_type": "markdown",
   "id": "14b105c0",
   "metadata": {},
   "source": [
    "## IMPORTING TWITTER JSON DOCUMENTS FROM RELATED ARTISTS AND COMBINING THEM IN A SINGLE DF"
   ]
  },
  {
   "cell_type": "markdown",
   "id": "1fa6f479",
   "metadata": {},
   "source": [
    "We are going to import 5 json documents obtained from tweeter with the number of twits of the last 31 days. "
   ]
  },
  {
   "cell_type": "code",
   "execution_count": 8,
   "id": "ee2eba4a",
   "metadata": {},
   "outputs": [
    {
     "name": "stderr",
     "output_type": "stream",
     "text": [
      "                                                                                \r"
     ]
    }
   ],
   "source": [
    "DF_6slack = spark.read.json(\"hdfs://localhost:9000/datalake/raw/aggregate_tweetpy_queries/the_weeknd/6lack.json\")"
   ]
  },
  {
   "cell_type": "code",
   "execution_count": 9,
   "id": "39820701",
   "metadata": {},
   "outputs": [
    {
     "name": "stdout",
     "output_type": "stream",
     "text": [
      "root\n",
      " |-- end: string (nullable = true)\n",
      " |-- start: string (nullable = true)\n",
      " |-- tweet_count: long (nullable = true)\n",
      "\n",
      "This DataFrame has 31 rows\n"
     ]
    },
    {
     "data": {
      "text/plain": [
       "pyspark.sql.dataframe.DataFrame"
      ]
     },
     "execution_count": 9,
     "metadata": {},
     "output_type": "execute_result"
    }
   ],
   "source": [
    "DF_6slack.printSchema()\n",
    "print(f\"This DataFrame has {DF_6slack.count()} rows\")\n",
    "type(DF_6slack)"
   ]
  },
  {
   "cell_type": "code",
   "execution_count": 10,
   "id": "d3993ada",
   "metadata": {},
   "outputs": [],
   "source": [
    "#here we create a column with the file_name from which we will extract the name of the related artist\n",
    "from pyspark.sql.functions import input_file_name\n",
    "DF_6slack_5=DF_6slack.withColumn(\"file_name\",input_file_name()).select(\"end\", \"tweet_count\", \"file_name\")"
   ]
  },
  {
   "cell_type": "code",
   "execution_count": 11,
   "id": "7f3052d2",
   "metadata": {},
   "outputs": [
    {
     "name": "stdout",
     "output_type": "stream",
     "text": [
      "+--------------------+-----------+--------------------+\n",
      "|                 end|tweet_count|           file_name|\n",
      "+--------------------+-----------+--------------------+\n",
      "|2022-09-01T00:00:...|        272|hdfs://localhost:...|\n",
      "|2022-09-02T00:00:...|        338|hdfs://localhost:...|\n",
      "|2022-09-03T00:00:...|        309|hdfs://localhost:...|\n",
      "|2022-09-04T00:00:...|        216|hdfs://localhost:...|\n",
      "|2022-09-05T00:00:...|        206|hdfs://localhost:...|\n",
      "+--------------------+-----------+--------------------+\n",
      "\n"
     ]
    }
   ],
   "source": [
    "DF_6slack_5.limit(5).show()"
   ]
  },
  {
   "cell_type": "code",
   "execution_count": 12,
   "id": "630b55a1",
   "metadata": {},
   "outputs": [],
   "source": [
    "from pyspark.sql.functions import split\n",
    "DF_6slack_6=DF_6slack_5.withColumn('json', split(DF_6slack_5['file_name'], '/').getItem(7)).select(\"end\", \"tweet_count\", \"json\")"
   ]
  },
  {
   "cell_type": "code",
   "execution_count": 13,
   "id": "2819df88",
   "metadata": {},
   "outputs": [
    {
     "name": "stdout",
     "output_type": "stream",
     "text": [
      "+--------------------+-----------+----------+\n",
      "|                 end|tweet_count|      json|\n",
      "+--------------------+-----------+----------+\n",
      "|2022-09-01T00:00:...|        272|6lack.json|\n",
      "|2022-09-02T00:00:...|        338|6lack.json|\n",
      "|2022-09-03T00:00:...|        309|6lack.json|\n",
      "|2022-09-04T00:00:...|        216|6lack.json|\n",
      "|2022-09-05T00:00:...|        206|6lack.json|\n",
      "+--------------------+-----------+----------+\n",
      "\n"
     ]
    }
   ],
   "source": [
    "DF_6slack_6.limit(5).show()"
   ]
  },
  {
   "cell_type": "code",
   "execution_count": 14,
   "id": "e7cd6f27",
   "metadata": {},
   "outputs": [],
   "source": [
    "DF_6slack_7=DF_6slack_6.withColumn('artist', split(DF_6slack_6['json'], '.json').getItem(0)).select(\"end\", \"tweet_count\", \"artist\")"
   ]
  },
  {
   "cell_type": "code",
   "execution_count": 15,
   "id": "97079731",
   "metadata": {},
   "outputs": [
    {
     "name": "stdout",
     "output_type": "stream",
     "text": [
      "+--------------------+-----------+------+\n",
      "|                 end|tweet_count|artist|\n",
      "+--------------------+-----------+------+\n",
      "|2022-09-01T00:00:...|        272| 6lack|\n",
      "|2022-09-02T00:00:...|        338| 6lack|\n",
      "|2022-09-03T00:00:...|        309| 6lack|\n",
      "|2022-09-04T00:00:...|        216| 6lack|\n",
      "|2022-09-05T00:00:...|        206| 6lack|\n",
      "+--------------------+-----------+------+\n",
      "\n"
     ]
    }
   ],
   "source": [
    "DF_6slack_7.limit(5).show()"
   ]
  },
  {
   "cell_type": "code",
   "execution_count": 16,
   "id": "7f6a099f",
   "metadata": {},
   "outputs": [
    {
     "name": "stdout",
     "output_type": "stream",
     "text": [
      "+----------+-----------+------+\n",
      "|      date|tweet_count|artist|\n",
      "+----------+-----------+------+\n",
      "|2022-09-01|        272| 6lack|\n",
      "|2022-09-02|        338| 6lack|\n",
      "|2022-09-03|        309| 6lack|\n",
      "|2022-09-04|        216| 6lack|\n",
      "|2022-09-05|        206| 6lack|\n",
      "+----------+-----------+------+\n",
      "\n"
     ]
    }
   ],
   "source": [
    "#The data we are interested in is the day the tweee_count and the artist\n",
    "\n",
    "from pyspark.sql.functions import date_format\n",
    "from pyspark.sql.functions import to_date\n",
    "\n",
    "DF_6slack_8 = DF_6slack_7.withColumn(\"date\",to_date(\"end\"))\\\n",
    ".select(\"date\", \"tweet_count\", \"artist\")\n",
    "DF_6slack_8.limit(5).show()"
   ]
  },
  {
   "cell_type": "code",
   "execution_count": 17,
   "id": "83dd58f7",
   "metadata": {},
   "outputs": [],
   "source": [
    "#now we import the other 4 and we transform them the same way and we join it to previous one\n",
    "bryson_tiller = spark.read.json(\"hdfs://localhost:9000/datalake/raw/aggregate_tweetpy_queries/the_weeknd/bryson_tiller.json\") "
   ]
  },
  {
   "cell_type": "code",
   "execution_count": 18,
   "id": "4d917bdb",
   "metadata": {},
   "outputs": [],
   "source": [
    "bryson_tiller1=bryson_tiller.withColumn(\"file_name\",input_file_name()).select(\"end\", \"tweet_count\", \"file_name\")\n",
    "bryson_tiller2=bryson_tiller1.withColumn('json', split(bryson_tiller1['file_name'], '/').getItem(7)).select(\"end\", \"tweet_count\", \"json\")\n",
    "bryson_tiller3=bryson_tiller2.withColumn('artist', split(bryson_tiller2['json'], '.json').getItem(0)).select(\"end\", \"tweet_count\", \"artist\")\n",
    "bryson_tiller=bryson_tiller3.withColumn(\"date\",to_date(\"end\")).select(\"date\", \"tweet_count\", \"artist\")"
   ]
  },
  {
   "cell_type": "code",
   "execution_count": 19,
   "id": "c1d19854",
   "metadata": {},
   "outputs": [],
   "source": [
    "brent_faiyaz = spark.read.json(\"hdfs://localhost:9000/datalake/raw/aggregate_tweetpy_queries/the_weeknd/brent_faiyaz.json\") "
   ]
  },
  {
   "cell_type": "code",
   "execution_count": 20,
   "id": "0a7dd71a",
   "metadata": {},
   "outputs": [],
   "source": [
    "brent_faiyaz1=brent_faiyaz.withColumn(\"file_name\",input_file_name()).select(\"end\", \"tweet_count\", \"file_name\")\n",
    "brent_faiyaz2=brent_faiyaz1.withColumn('json', split(brent_faiyaz1['file_name'], '/').getItem(7)).select(\"end\", \"tweet_count\", \"json\")\n",
    "brent_faiyaz3=brent_faiyaz2.withColumn('artist', split(brent_faiyaz2['json'], '.json').getItem(0)).select(\"end\", \"tweet_count\", \"artist\")\n",
    "brent_faiyaz=brent_faiyaz3.withColumn(\"date\",to_date(\"end\")).select(\"date\", \"tweet_count\", \"artist\")"
   ]
  },
  {
   "cell_type": "code",
   "execution_count": 21,
   "id": "e809561a",
   "metadata": {},
   "outputs": [],
   "source": [
    "majid_jordan = spark.read.json(\"hdfs://localhost:9000/datalake/raw/aggregate_tweetpy_queries/the_weeknd/majid_jordan.json\") "
   ]
  },
  {
   "cell_type": "code",
   "execution_count": 22,
   "id": "00483885",
   "metadata": {},
   "outputs": [],
   "source": [
    "majid_jordan1=majid_jordan.withColumn(\"file_name\",input_file_name()).select(\"end\", \"tweet_count\", \"file_name\")\n",
    "majid_jordan2=majid_jordan1.withColumn('json', split(majid_jordan1['file_name'], '/').getItem(7)).select(\"end\", \"tweet_count\", \"json\")\n",
    "majid_jordan3=majid_jordan2.withColumn('artist', split(majid_jordan2['json'], '.json').getItem(0)).select(\"end\", \"tweet_count\", \"artist\")\n",
    "majid_jordan=majid_jordan3.withColumn(\"date\",to_date(\"end\")).select(\"date\", \"tweet_count\", \"artist\")"
   ]
  },
  {
   "cell_type": "code",
   "execution_count": 23,
   "id": "032c4bd1",
   "metadata": {},
   "outputs": [],
   "source": [
    "partynextdoor = spark.read.json(\"hdfs://localhost:9000/datalake/raw/aggregate_tweetpy_queries/the_weeknd/partynextdoor.json\") "
   ]
  },
  {
   "cell_type": "code",
   "execution_count": 24,
   "id": "ec346643",
   "metadata": {},
   "outputs": [],
   "source": [
    "partynextdoor1=partynextdoor.withColumn(\"file_name\",input_file_name()).select(\"end\", \"tweet_count\", \"file_name\")\n",
    "partynextdoor2=partynextdoor1.withColumn('json', split(partynextdoor1['file_name'], '/').getItem(7)).select(\"end\", \"tweet_count\", \"json\")\n",
    "partynextdoor3=partynextdoor2.withColumn('artist', split(partynextdoor2['json'], '.json').getItem(0)).select(\"end\", \"tweet_count\", \"artist\")\n",
    "partynextdoor=partynextdoor3.withColumn(\"date\",to_date(\"end\")).select(\"date\", \"tweet_count\", \"artist\")"
   ]
  },
  {
   "cell_type": "code",
   "execution_count": 25,
   "id": "172a7157",
   "metadata": {},
   "outputs": [
    {
     "data": {
      "text/plain": [
       "155"
      ]
     },
     "execution_count": 25,
     "metadata": {},
     "output_type": "execute_result"
    }
   ],
   "source": [
    "df_concat = DF_6slack_8.union(bryson_tiller).select(\"date\", \"tweet_count\", \"artist\")\n",
    "df_concat1 = df_concat.union(brent_faiyaz).select(\"date\", \"tweet_count\", \"artist\")\n",
    "df_concat2 = df_concat1.union(majid_jordan).select(\"date\", \"tweet_count\", \"artist\")\n",
    "df_concat = df_concat2.union(partynextdoor).select(\"date\", \"tweet_count\", \"artist\")\n",
    "df_concat.count()"
   ]
  },
  {
   "cell_type": "code",
   "execution_count": 26,
   "id": "b6a75de1",
   "metadata": {},
   "outputs": [
    {
     "name": "stdout",
     "output_type": "stream",
     "text": [
      "+-------------+-------------+\n",
      "|       artist|count(artist)|\n",
      "+-------------+-------------+\n",
      "|        6lack|           31|\n",
      "|bryson_tiller|           31|\n",
      "| brent_faiyaz|           31|\n",
      "| majid_jordan|           31|\n",
      "|partynextdoor|           31|\n",
      "+-------------+-------------+\n",
      "\n"
     ]
    }
   ],
   "source": [
    "df_concat.select(['artist']).groupby('artist').agg({'artist': 'count'}).show()"
   ]
  },
  {
   "cell_type": "markdown",
   "id": "595281ce",
   "metadata": {},
   "source": [
    "## TIME SERIES WITH FB.PROPHET TO FORECAST FUTURE TWEETS"
   ]
  },
  {
   "cell_type": "code",
   "execution_count": 27,
   "id": "f579ee5e",
   "metadata": {},
   "outputs": [],
   "source": [
    "#!pip install fbprophet\n",
    "#!pip install pyarrow = 0.15.1"
   ]
  },
  {
   "cell_type": "code",
   "execution_count": 28,
   "id": "50b2aa3e",
   "metadata": {},
   "outputs": [],
   "source": [
    "#pip install prophet"
   ]
  },
  {
   "cell_type": "code",
   "execution_count": 29,
   "id": "5af274d7",
   "metadata": {},
   "outputs": [
    {
     "name": "stderr",
     "output_type": "stream",
     "text": [
      "Importing plotly failed. Interactive plots will not work.\n"
     ]
    }
   ],
   "source": [
    "import pandas as pd\n",
    "import matplotlib as mpl\n",
    "import matplotlib.pyplot as plt\n",
    "from prophet import Prophet\n",
    "mpl.rcParams['figure.figsize'] = (10, 8)\n",
    "mpl.rcParams['axes.grid'] = False"
   ]
  },
  {
   "cell_type": "code",
   "execution_count": 30,
   "id": "da2594e7",
   "metadata": {},
   "outputs": [
    {
     "name": "stdout",
     "output_type": "stream",
     "text": [
      "+----------+---+------+\n",
      "|        ds|  y|artist|\n",
      "+----------+---+------+\n",
      "|2022-09-01|272| 6lack|\n",
      "|2022-09-02|338| 6lack|\n",
      "|2022-09-03|309| 6lack|\n",
      "|2022-09-04|216| 6lack|\n",
      "|2022-09-05|206| 6lack|\n",
      "+----------+---+------+\n",
      "\n"
     ]
    },
    {
     "data": {
      "text/plain": [
       "[('ds', 'date'), ('y', 'bigint'), ('artist', 'string')]"
      ]
     },
     "execution_count": 30,
     "metadata": {},
     "output_type": "execute_result"
    }
   ],
   "source": [
    "#Prophet expects date column to be called \"ds\" and target column as \"y\"\n",
    "\n",
    "DF=df_concat.withColumnRenamed(\"date\",\"ds\").withColumnRenamed(\"tweet_count\", \"y\").select(\"ds\", \"y\", \"artist\")\n",
    "DF.limit(5).show()\n",
    "DF.dtypes"
   ]
  },
  {
   "cell_type": "code",
   "execution_count": 31,
   "id": "211f4635",
   "metadata": {},
   "outputs": [],
   "source": [
    "#Now we start with the forecast"
   ]
  },
  {
   "cell_type": "code",
   "execution_count": 32,
   "id": "cab8e7cb",
   "metadata": {},
   "outputs": [
    {
     "name": "stdout",
     "output_type": "stream",
     "text": [
      "+-------------+--------+\n",
      "|       artist|count(1)|\n",
      "+-------------+--------+\n",
      "|        6lack|      31|\n",
      "| brent_faiyaz|      31|\n",
      "|bryson_tiller|      31|\n",
      "| majid_jordan|      31|\n",
      "|partynextdoor|      31|\n",
      "+-------------+--------+\n",
      "\n"
     ]
    }
   ],
   "source": [
    "#Now we will create a Temporary view to run the SQL queries on the dataframe. After this, we run a SQL query to find the count of each artist \n",
    "\n",
    "DF.createOrReplaceTempView(\"tweets\")\n",
    "spark.sql(\"select artist, count(*) from tweets group by artist order by artist\").show()"
   ]
  },
  {
   "cell_type": "code",
   "execution_count": 33,
   "id": "40d29bf9",
   "metadata": {},
   "outputs": [
    {
     "name": "stdout",
     "output_type": "stream",
     "text": [
      "+------+----------+------+\n",
      "|artist|        ds|sum(y)|\n",
      "+------+----------+------+\n",
      "| 6lack|2022-09-01|   272|\n",
      "| 6lack|2022-09-02|   338|\n",
      "| 6lack|2022-09-03|   309|\n",
      "| 6lack|2022-09-04|   216|\n",
      "| 6lack|2022-09-05|   206|\n",
      "| 6lack|2022-09-06|   366|\n",
      "| 6lack|2022-09-07|   323|\n",
      "| 6lack|2022-09-08|   314|\n",
      "| 6lack|2022-09-09|   575|\n",
      "| 6lack|2022-09-10|  1262|\n",
      "| 6lack|2022-09-11|  1307|\n",
      "| 6lack|2022-09-12|   469|\n",
      "| 6lack|2022-09-13|   332|\n",
      "| 6lack|2022-09-14|   808|\n",
      "| 6lack|2022-09-15|  1673|\n",
      "| 6lack|2022-09-16|  1079|\n",
      "| 6lack|2022-09-17|   751|\n",
      "| 6lack|2022-09-18|   372|\n",
      "| 6lack|2022-09-19|   330|\n",
      "| 6lack|2022-09-20|  3171|\n",
      "+------+----------+------+\n",
      "only showing top 20 rows\n",
      "\n"
     ]
    }
   ],
   "source": [
    "sql = \"SELECT artist, ds, sum(y) FROM tweets GROUP BY artist, ds ORDER BY artist, ds\"\n",
    "spark.sql(sql).show()"
   ]
  },
  {
   "cell_type": "code",
   "execution_count": 34,
   "id": "1e575d7b",
   "metadata": {},
   "outputs": [],
   "source": [
    "#create a schema for our return object\n",
    "\n",
    "from pyspark.sql.types import *\n",
    "result_schema = StructType([\n",
    "                  StructField('ds', TimestampType()),\n",
    "                  StructField('artist', StringType()),\n",
    "                  StructField('y', DoubleType()),\n",
    "                  StructField('yhat', DoubleType()),\n",
    "                  StructField('yhat_upper', DoubleType()),\n",
    "                  StructField('yhat_lower', DoubleType())\n",
    "])"
   ]
  },
  {
   "cell_type": "markdown",
   "id": "26980c07",
   "metadata": {},
   "source": [
    "#from the Pyspark SQL function we will import Pandas UDF and UDF type and define a function that will have facebook Prophet code"
   ]
  },
  {
   "cell_type": "code",
   "execution_count": 35,
   "id": "ac4a5b14",
   "metadata": {},
   "outputs": [],
   "source": [
    "from pyspark.sql.functions import pandas_udf, PandasUDFType\n",
    "@pandas_udf(result_schema, PandasUDFType.GROUPED_MAP)\n",
    "def forecast_tweets(history_pd):\n",
    "\n",
    "    # instantiate the model, configure the parameters\n",
    "    model = Prophet(\n",
    "        interval_width=0.95,\n",
    "        growth='linear',\n",
    "        daily_seasonality=False,\n",
    "        weekly_seasonality=True,\n",
    "        yearly_seasonality=False,\n",
    "        seasonality_mode='additive'\n",
    "    )\n",
    "\n",
    "    # fit the model\n",
    "    model.fit(history_pd)\n",
    "\n",
    "    # configure predictions\n",
    "    future_pd = model.make_future_dataframe(\n",
    "        periods=15,\n",
    "        freq='d',\n",
    "        include_history=True\n",
    "    )\n",
    "\n",
    "    # make predictions\n",
    "    forecast_pd = model.predict(future_pd)\n",
    "\n",
    "    \n",
    "    f_pd = forecast_pd[['ds', 'yhat', 'yhat_upper', 'yhat_lower']].set_index('ds')\n",
    "    ra_pd = history_pd[['ds', 'artist', 'y']].set_index('ds')\n",
    "    result_pd = f_pd.join(ra_pd, how='left')\n",
    "    result_pd.reset_index(level=0, inplace=True)\n",
    "    result_pd['artist'] = history_pd['artist'].iloc[0]\n",
    "    return result_pd[['ds', 'artist', 'y', 'yhat', 'yhat_upper', 'yhat_lower']]"
   ]
  },
  {
   "cell_type": "code",
   "execution_count": 36,
   "id": "4cadfb6d",
   "metadata": {},
   "outputs": [
    {
     "name": "stderr",
     "output_type": "stream",
     "text": [
      "/opt/spark3/python/pyspark/sql/pandas/group_ops.py:81: UserWarning: It is preferred to use 'applyInPandas' over this API. This API will be deprecated in the future releases. See SPARK-28264 for more details.\n",
      "  warnings.warn(\n",
      "Importing plotly failed. Interactive plots will not work.======>  (19 + 1) / 20]\n",
      "20:34:24 - cmdstanpy - INFO - Chain [1] start processing\n",
      "20:34:24 - cmdstanpy - INFO - Chain [1] done processing\n"
     ]
    },
    {
     "name": "stdout",
     "output_type": "stream",
     "text": [
      "+-------------------+------------+----+------------------+------------------+--------------------+-------------+\n",
      "|                 ds|      artist|   y|              yhat|        yhat_upper|          yhat_lower|training_date|\n",
      "+-------------------+------------+----+------------------+------------------+--------------------+-------------+\n",
      "|2022-09-01 00:00:00|majid_jordan|27.0|15.065815999999105| 30.54023673577074|-0.39826431325097705|   2022-11-03|\n",
      "|2022-09-02 00:00:00|majid_jordan|40.0|16.867879173772614| 32.75120581430761|  2.1687422834595345|   2022-11-03|\n",
      "|2022-09-03 00:00:00|majid_jordan| 8.0|13.867583335228092|29.019246840022866| -0.9722349068000318|   2022-11-03|\n",
      "|2022-09-04 00:00:00|majid_jordan|14.0|12.443610737564997| 28.14399248916023|  -2.750770509265967|   2022-11-03|\n",
      "|2022-09-05 00:00:00|majid_jordan| 8.0| 6.942393573631881|23.566607135594772|  -8.276809486972704|   2022-11-03|\n",
      "|2022-09-06 00:00:00|majid_jordan| 7.0| 9.444751710202887| 24.91087809022711|  -5.655607101108651|   2022-11-03|\n",
      "|2022-09-07 00:00:00|majid_jordan|12.0| 18.44991944560659| 34.35333578206095|  3.8196095399078156|   2022-11-03|\n",
      "|2022-09-08 00:00:00|majid_jordan|13.0|14.430827331420058| 29.76810149946444| -1.3199732765213597|   2022-11-03|\n",
      "|2022-09-09 00:00:00|majid_jordan| 6.0|16.232890507500187| 32.01617189687746|  1.6394719966535314|   2022-11-03|\n",
      "|2022-09-10 00:00:00|majid_jordan|15.0| 13.23259467358326|28.095699410636282| -2.1767796650232096|   2022-11-03|\n",
      "|2022-09-11 00:00:00|majid_jordan| 4.0|11.808622076220121|   26.506999930337|  -4.435262197941455|   2022-11-03|\n",
      "|2022-09-12 00:00:00|majid_jordan| 7.0|  6.30740491270048|21.190399164426353|  -9.636092723624762|   2022-11-03|\n",
      "|2022-09-13 00:00:00|majid_jordan| 5.0| 8.809763054393388|25.396863232837944|  -6.284576862604384|   2022-11-03|\n",
      "|2022-09-14 00:00:00|majid_jordan|10.0|17.814930796116016| 33.39071126880566|   2.751422297807921|   2022-11-03|\n",
      "|2022-09-15 00:00:00|majid_jordan| 4.0|13.795838689256625| 29.17198146274767| -1.9211383793134122|   2022-11-03|\n",
      "|2022-09-16 00:00:00|majid_jordan| 9.0| 15.59791720935392|30.711657930297704| 0.33062284420137594|   2022-11-03|\n",
      "|2022-09-17 00:00:00|majid_jordan|17.0|12.597636721929476|27.109407009117053|  -2.758774977191891|   2022-11-03|\n",
      "|2022-09-18 00:00:00|majid_jordan|15.0|11.173679474710065| 26.58108336312596|  -3.828895514053619|   2022-11-03|\n",
      "|2022-09-19 00:00:00|majid_jordan| 5.0| 5.672477659131292|21.324082897429136|  -9.357197533032343|   2022-11-03|\n",
      "|2022-09-20 00:00:00|majid_jordan|13.0| 8.174851149697616|23.775293113369024|  -7.257647408229987|   2022-11-03|\n",
      "+-------------------+------------+----+------------------+------------------+--------------------+-------------+\n",
      "only showing top 20 rows\n",
      "\n"
     ]
    },
    {
     "name": "stderr",
     "output_type": "stream",
     "text": [
      "                                                                                \r"
     ]
    }
   ],
   "source": [
    "from pyspark.sql.functions import current_date\n",
    "results = (DF.groupby('artist').apply(forecast_tweets).withColumn('training_date', current_date()))\n",
    "results.cache()\n",
    "results.show()"
   ]
  },
  {
   "cell_type": "code",
   "execution_count": 37,
   "id": "2da9fc06",
   "metadata": {},
   "outputs": [
    {
     "name": "stderr",
     "output_type": "stream",
     "text": [
      "20:34:25 - cmdstanpy - INFO - Chain [1] start processing\n",
      "20:34:25 - cmdstanpy - INFO - Chain [1] done processing\n",
      "20:34:25 - cmdstanpy - INFO - Chain [1] start processing         (25 + 2) / 200]\n",
      "20:34:25 - cmdstanpy - INFO - Chain [1] done processing          (26 + 2) / 200]\n",
      "Importing plotly failed. Interactive plots will not work.        (27 + 2) / 200]\n",
      "20:34:26 - cmdstanpy - INFO - Chain [1] start processing\n",
      "20:34:26 - cmdstanpy - INFO - Chain [1] start processing\n",
      "20:34:26 - cmdstanpy - INFO - Chain [1] done processing\n",
      "20:34:26 - cmdstanpy - INFO - Chain [1] done processing\n",
      "                                                                                \r"
     ]
    },
    {
     "data": {
      "text/plain": [
       "230"
      ]
     },
     "execution_count": 37,
     "metadata": {},
     "output_type": "execute_result"
    }
   ],
   "source": [
    "results.count()"
   ]
  },
  {
   "cell_type": "markdown",
   "id": "fcf1b49a",
   "metadata": {},
   "source": [
    "Verifying that the 15 forecasted days are in the DF "
   ]
  },
  {
   "cell_type": "code",
   "execution_count": 38,
   "id": "079d4eb2",
   "metadata": {},
   "outputs": [
    {
     "name": "stderr",
     "output_type": "stream",
     "text": [
      "[Stage 47:============================================>         (164 + 3) / 200]\r"
     ]
    },
    {
     "name": "stdout",
     "output_type": "stream",
     "text": [
      "+-------------+--------+\n",
      "|       artist|count(1)|\n",
      "+-------------+--------+\n",
      "| majid_jordan|      46|\n",
      "| brent_faiyaz|      46|\n",
      "|        6lack|      46|\n",
      "|partynextdoor|      46|\n",
      "|bryson_tiller|      46|\n",
      "+-------------+--------+\n",
      "\n"
     ]
    },
    {
     "name": "stderr",
     "output_type": "stream",
     "text": [
      "                                                                                \r"
     ]
    }
   ],
   "source": [
    "results.createOrReplaceTempView('forecasted')\n",
    "spark.sql(\"SELECT artist, count(*) FROM  forecasted GROUP BY artist\").show()"
   ]
  },
  {
   "cell_type": "code",
   "execution_count": 39,
   "id": "f023fb26",
   "metadata": {},
   "outputs": [
    {
     "data": {
      "text/plain": [
       "[('ds', 'timestamp'),\n",
       " ('artist', 'string'),\n",
       " ('y', 'double'),\n",
       " ('yhat', 'double'),\n",
       " ('yhat_upper', 'double'),\n",
       " ('yhat_lower', 'double'),\n",
       " ('training_date', 'date')]"
      ]
     },
     "execution_count": 39,
     "metadata": {},
     "output_type": "execute_result"
    }
   ],
   "source": [
    "results.dtypes"
   ]
  },
  {
   "cell_type": "code",
   "execution_count": 40,
   "id": "e09efa20",
   "metadata": {},
   "outputs": [
    {
     "name": "stdout",
     "output_type": "stream",
     "text": [
      "root\n",
      " |-- ds: timestamp (nullable = true)\n",
      " |-- artist: string (nullable = true)\n",
      " |-- y: double (nullable = true)\n",
      " |-- yhat: double (nullable = true)\n",
      " |-- yhat_upper: double (nullable = true)\n",
      " |-- yhat_lower: double (nullable = true)\n",
      " |-- training_date: date (nullable = false)\n",
      "\n"
     ]
    }
   ],
   "source": [
    "results.printSchema()"
   ]
  },
  {
   "cell_type": "markdown",
   "id": "0fcd134b",
   "metadata": {},
   "source": [
    "converting DF to pandas just for provisional visualization of results"
   ]
  },
  {
   "cell_type": "code",
   "execution_count": 41,
   "id": "3f5f349f",
   "metadata": {},
   "outputs": [],
   "source": [
    "final_df = results.toPandas()"
   ]
  },
  {
   "cell_type": "code",
   "execution_count": 42,
   "id": "fdd9f226",
   "metadata": {},
   "outputs": [
    {
     "data": {
      "text/html": [
       "<div>\n",
       "<style scoped>\n",
       "    .dataframe tbody tr th:only-of-type {\n",
       "        vertical-align: middle;\n",
       "    }\n",
       "\n",
       "    .dataframe tbody tr th {\n",
       "        vertical-align: top;\n",
       "    }\n",
       "\n",
       "    .dataframe thead th {\n",
       "        text-align: right;\n",
       "    }\n",
       "</style>\n",
       "<table border=\"1\" class=\"dataframe\">\n",
       "  <thead>\n",
       "    <tr style=\"text-align: right;\">\n",
       "      <th></th>\n",
       "      <th>ds</th>\n",
       "      <th>artist</th>\n",
       "      <th>y</th>\n",
       "      <th>yhat</th>\n",
       "      <th>yhat_upper</th>\n",
       "      <th>yhat_lower</th>\n",
       "      <th>training_date</th>\n",
       "    </tr>\n",
       "  </thead>\n",
       "  <tbody>\n",
       "    <tr>\n",
       "      <th>0</th>\n",
       "      <td>2022-09-01</td>\n",
       "      <td>majid_jordan</td>\n",
       "      <td>27.0</td>\n",
       "      <td>15.065816</td>\n",
       "      <td>30.540237</td>\n",
       "      <td>-0.398264</td>\n",
       "      <td>2022-11-03</td>\n",
       "    </tr>\n",
       "    <tr>\n",
       "      <th>1</th>\n",
       "      <td>2022-09-02</td>\n",
       "      <td>majid_jordan</td>\n",
       "      <td>40.0</td>\n",
       "      <td>16.867879</td>\n",
       "      <td>32.751206</td>\n",
       "      <td>2.168742</td>\n",
       "      <td>2022-11-03</td>\n",
       "    </tr>\n",
       "    <tr>\n",
       "      <th>2</th>\n",
       "      <td>2022-09-03</td>\n",
       "      <td>majid_jordan</td>\n",
       "      <td>8.0</td>\n",
       "      <td>13.867583</td>\n",
       "      <td>29.019247</td>\n",
       "      <td>-0.972235</td>\n",
       "      <td>2022-11-03</td>\n",
       "    </tr>\n",
       "    <tr>\n",
       "      <th>3</th>\n",
       "      <td>2022-09-04</td>\n",
       "      <td>majid_jordan</td>\n",
       "      <td>14.0</td>\n",
       "      <td>12.443611</td>\n",
       "      <td>28.143992</td>\n",
       "      <td>-2.750771</td>\n",
       "      <td>2022-11-03</td>\n",
       "    </tr>\n",
       "    <tr>\n",
       "      <th>4</th>\n",
       "      <td>2022-09-05</td>\n",
       "      <td>majid_jordan</td>\n",
       "      <td>8.0</td>\n",
       "      <td>6.942394</td>\n",
       "      <td>23.566607</td>\n",
       "      <td>-8.276809</td>\n",
       "      <td>2022-11-03</td>\n",
       "    </tr>\n",
       "    <tr>\n",
       "      <th>...</th>\n",
       "      <td>...</td>\n",
       "      <td>...</td>\n",
       "      <td>...</td>\n",
       "      <td>...</td>\n",
       "      <td>...</td>\n",
       "      <td>...</td>\n",
       "      <td>...</td>\n",
       "    </tr>\n",
       "    <tr>\n",
       "      <th>225</th>\n",
       "      <td>2022-10-12</td>\n",
       "      <td>bryson_tiller</td>\n",
       "      <td>NaN</td>\n",
       "      <td>296.783025</td>\n",
       "      <td>1083.104361</td>\n",
       "      <td>-585.511587</td>\n",
       "      <td>2022-11-03</td>\n",
       "    </tr>\n",
       "    <tr>\n",
       "      <th>226</th>\n",
       "      <td>2022-10-13</td>\n",
       "      <td>bryson_tiller</td>\n",
       "      <td>NaN</td>\n",
       "      <td>473.874017</td>\n",
       "      <td>1312.728849</td>\n",
       "      <td>-354.124109</td>\n",
       "      <td>2022-11-03</td>\n",
       "    </tr>\n",
       "    <tr>\n",
       "      <th>227</th>\n",
       "      <td>2022-10-14</td>\n",
       "      <td>bryson_tiller</td>\n",
       "      <td>NaN</td>\n",
       "      <td>505.478568</td>\n",
       "      <td>1323.498389</td>\n",
       "      <td>-344.444256</td>\n",
       "      <td>2022-11-03</td>\n",
       "    </tr>\n",
       "    <tr>\n",
       "      <th>228</th>\n",
       "      <td>2022-10-15</td>\n",
       "      <td>bryson_tiller</td>\n",
       "      <td>NaN</td>\n",
       "      <td>762.865054</td>\n",
       "      <td>1683.002732</td>\n",
       "      <td>-111.284502</td>\n",
       "      <td>2022-11-03</td>\n",
       "    </tr>\n",
       "    <tr>\n",
       "      <th>229</th>\n",
       "      <td>2022-10-16</td>\n",
       "      <td>bryson_tiller</td>\n",
       "      <td>NaN</td>\n",
       "      <td>286.699842</td>\n",
       "      <td>1135.090786</td>\n",
       "      <td>-606.432307</td>\n",
       "      <td>2022-11-03</td>\n",
       "    </tr>\n",
       "  </tbody>\n",
       "</table>\n",
       "<p>230 rows × 7 columns</p>\n",
       "</div>"
      ],
      "text/plain": [
       "            ds         artist     y        yhat   yhat_upper  yhat_lower  \\\n",
       "0   2022-09-01   majid_jordan  27.0   15.065816    30.540237   -0.398264   \n",
       "1   2022-09-02   majid_jordan  40.0   16.867879    32.751206    2.168742   \n",
       "2   2022-09-03   majid_jordan   8.0   13.867583    29.019247   -0.972235   \n",
       "3   2022-09-04   majid_jordan  14.0   12.443611    28.143992   -2.750771   \n",
       "4   2022-09-05   majid_jordan   8.0    6.942394    23.566607   -8.276809   \n",
       "..         ...            ...   ...         ...          ...         ...   \n",
       "225 2022-10-12  bryson_tiller   NaN  296.783025  1083.104361 -585.511587   \n",
       "226 2022-10-13  bryson_tiller   NaN  473.874017  1312.728849 -354.124109   \n",
       "227 2022-10-14  bryson_tiller   NaN  505.478568  1323.498389 -344.444256   \n",
       "228 2022-10-15  bryson_tiller   NaN  762.865054  1683.002732 -111.284502   \n",
       "229 2022-10-16  bryson_tiller   NaN  286.699842  1135.090786 -606.432307   \n",
       "\n",
       "    training_date  \n",
       "0      2022-11-03  \n",
       "1      2022-11-03  \n",
       "2      2022-11-03  \n",
       "3      2022-11-03  \n",
       "4      2022-11-03  \n",
       "..            ...  \n",
       "225    2022-11-03  \n",
       "226    2022-11-03  \n",
       "227    2022-11-03  \n",
       "228    2022-11-03  \n",
       "229    2022-11-03  \n",
       "\n",
       "[230 rows x 7 columns]"
      ]
     },
     "execution_count": 42,
     "metadata": {},
     "output_type": "execute_result"
    }
   ],
   "source": [
    "final_df"
   ]
  },
  {
   "cell_type": "code",
   "execution_count": 43,
   "id": "ed154fc9",
   "metadata": {
    "scrolled": false
   },
   "outputs": [],
   "source": [
    "#If we want to see the whole DF\n",
    "#with pd.option_context('display.max_rows', None,\n",
    "#                       'display.max_columns', None,\n",
    "#                       'display.precision', 3,\n",
    "#                       ):\n",
    "#    print(final_df)"
   ]
  },
  {
   "cell_type": "markdown",
   "id": "12b1beac",
   "metadata": {},
   "source": [
    "Plotting original data"
   ]
  },
  {
   "cell_type": "code",
   "execution_count": 44,
   "id": "b8b8334e",
   "metadata": {},
   "outputs": [
    {
     "data": {
      "image/png": "[encoded data removed]",
      "text/plain": [
       "<Figure size 720x576 with 1 Axes>"
      ]
     },
     "metadata": {
      "needs_background": "light"
     },
     "output_type": "display_data"
    }
   ],
   "source": [
    "y1 = final_df.iloc[:,2]\n",
    "plt.plot(y1)\n",
    "plt.show()"
   ]
  },
  {
   "cell_type": "markdown",
   "id": "7219ab51",
   "metadata": {},
   "source": [
    "plotting the forecasted data"
   ]
  },
  {
   "cell_type": "code",
   "execution_count": 45,
   "id": "8d5e4b4a",
   "metadata": {},
   "outputs": [
    {
     "data": {
      "image/png": "[encoded data removed]",
      "text/plain": [
       "<Figure size 720x576 with 1 Axes>"
      ]
     },
     "metadata": {
      "needs_background": "light"
     },
     "output_type": "display_data"
    }
   ],
   "source": [
    "y2 = final_df.iloc[:,3]\n",
    "plt.plot(y2)\n",
    "plt.show()"
   ]
  },
  {
   "cell_type": "markdown",
   "id": "55cb945c",
   "metadata": {},
   "source": [
    "## EXPORTING RESULTS TO THE SERVING LAYER (MARIADB) AS A MYSQL DB"
   ]
  },
  {
   "cell_type": "code",
   "execution_count": 46,
   "id": "e35aa5c5",
   "metadata": {},
   "outputs": [
    {
     "name": "stdout",
     "output_type": "stream",
     "text": [
      "+-------------------+------------+----+------------------+------------------+--------------------+-------------+\n",
      "|                 ds|      artist|   y|              yhat|        yhat_upper|          yhat_lower|training_date|\n",
      "+-------------------+------------+----+------------------+------------------+--------------------+-------------+\n",
      "|2022-09-01 00:00:00|majid_jordan|27.0|15.065815999999105| 30.54023673577074|-0.39826431325097705|   2022-11-03|\n",
      "|2022-09-02 00:00:00|majid_jordan|40.0|16.867879173772614| 32.75120581430761|  2.1687422834595345|   2022-11-03|\n",
      "|2022-09-03 00:00:00|majid_jordan| 8.0|13.867583335228092|29.019246840022866| -0.9722349068000318|   2022-11-03|\n",
      "|2022-09-04 00:00:00|majid_jordan|14.0|12.443610737564997| 28.14399248916023|  -2.750770509265967|   2022-11-03|\n",
      "|2022-09-05 00:00:00|majid_jordan| 8.0| 6.942393573631881|23.566607135594772|  -8.276809486972704|   2022-11-03|\n",
      "+-------------------+------------+----+------------------+------------------+--------------------+-------------+\n",
      "\n"
     ]
    }
   ],
   "source": [
    "results.limit(5).show()"
   ]
  },
  {
   "cell_type": "code",
   "execution_count": 104,
   "id": "e273e42a",
   "metadata": {},
   "outputs": [
    {
     "name": "stdout",
     "output_type": "stream",
     "text": [
      "+----------+------------+----+------------------+\n",
      "|     dates|      artist|   y|              yhat|\n",
      "+----------+------------+----+------------------+\n",
      "|2022-09-01|majid_jordan|27.0|15.065815999999105|\n",
      "|2022-09-02|majid_jordan|40.0|16.867879173772614|\n",
      "|2022-09-03|majid_jordan| 8.0|13.867583335228092|\n",
      "|2022-09-04|majid_jordan|14.0|12.443610737564997|\n",
      "|2022-09-05|majid_jordan| 8.0| 6.942393573631881|\n",
      "+----------+------------+----+------------------+\n",
      "\n"
     ]
    }
   ],
   "source": [
    "#reshaping the result before sending it to the serving layer\n",
    "\n",
    "from pyspark.sql.functions import date_format\n",
    "from pyspark.sql.functions import to_date\n",
    "\n",
    "results_mdb = results.withColumn(\"dates\",to_date(\"ds\"))\\\n",
    ".select(\"dates\", \"artist\", \"y\", \"yhat\")\n",
    "results_mdb.limit(5).show()"
   ]
  },
  {
   "cell_type": "code",
   "execution_count": 105,
   "id": "547bbb7f",
   "metadata": {},
   "outputs": [
    {
     "name": "stdout",
     "output_type": "stream",
     "text": [
      "root\n",
      " |-- dates: date (nullable = true)\n",
      " |-- artist: string (nullable = true)\n",
      " |-- y: double (nullable = true)\n",
      " |-- yhat: double (nullable = true)\n",
      "\n"
     ]
    }
   ],
   "source": [
    "results_mdb.printSchema()"
   ]
  },
  {
   "cell_type": "code",
   "execution_count": 106,
   "id": "846bc1a7",
   "metadata": {},
   "outputs": [],
   "source": [
    "results_mdb2 = results_mdb.withColumn(\"tweets\", results_mdb.y.cast('integer'))"
   ]
  },
  {
   "cell_type": "code",
   "execution_count": 107,
   "id": "c5857662",
   "metadata": {},
   "outputs": [],
   "source": [
    "results_mdb3 = results_mdb2.withColumn(\"forecasted_tweets\", results_mdb.yhat.cast('integer'))"
   ]
  },
  {
   "cell_type": "code",
   "execution_count": 108,
   "id": "0000f8e6",
   "metadata": {},
   "outputs": [],
   "source": [
    "results_mdb=results_mdb3.select(\"dates\", \"artist\", \"tweets\", \"forecasted_tweets\")"
   ]
  },
  {
   "cell_type": "code",
   "execution_count": 109,
   "id": "dfb30410",
   "metadata": {},
   "outputs": [
    {
     "name": "stdout",
     "output_type": "stream",
     "text": [
      "root\n",
      " |-- dates: date (nullable = true)\n",
      " |-- artist: string (nullable = true)\n",
      " |-- tweets: integer (nullable = true)\n",
      " |-- forecasted_tweets: integer (nullable = true)\n",
      "\n"
     ]
    }
   ],
   "source": [
    "results_mdb.printSchema()"
   ]
  },
  {
   "cell_type": "code",
   "execution_count": 110,
   "id": "2361c25d",
   "metadata": {},
   "outputs": [
    {
     "name": "stdout",
     "output_type": "stream",
     "text": [
      "+----------+------------+------+-----------------+\n",
      "|     dates|      artist|tweets|forecasted_tweets|\n",
      "+----------+------------+------+-----------------+\n",
      "|2022-09-01|majid_jordan|    27|               15|\n",
      "|2022-09-02|majid_jordan|    40|               16|\n",
      "|2022-09-03|majid_jordan|     8|               13|\n",
      "|2022-09-04|majid_jordan|    14|               12|\n",
      "|2022-09-05|majid_jordan|     8|                6|\n",
      "+----------+------------+------+-----------------+\n",
      "\n"
     ]
    }
   ],
   "source": [
    "results_mdb.limit(5).show()"
   ]
  },
  {
   "cell_type": "code",
   "execution_count": 111,
   "id": "998e208c",
   "metadata": {},
   "outputs": [],
   "source": [
    "from pyspark.sql.functions import when\n",
    "results_mdb = results_mdb.withColumn(\"hist_forecast\", when(results_mdb.tweets.isNull(), results_mdb.forecasted_tweets)\n",
    "                                  .otherwise(results_mdb.tweets))"
   ]
  },
  {
   "cell_type": "code",
   "execution_count": 112,
   "id": "e1ae791b",
   "metadata": {},
   "outputs": [
    {
     "name": "stdout",
     "output_type": "stream",
     "text": [
      "+----------+------------+------+-----------------+-------------+\n",
      "|     dates|      artist|tweets|forecasted_tweets|hist_forecast|\n",
      "+----------+------------+------+-----------------+-------------+\n",
      "|2022-09-01|majid_jordan|    27|               15|           27|\n",
      "|2022-09-02|majid_jordan|    40|               16|           40|\n",
      "|2022-09-03|majid_jordan|     8|               13|            8|\n",
      "|2022-09-04|majid_jordan|    14|               12|           14|\n",
      "|2022-09-05|majid_jordan|     8|                6|            8|\n",
      "|2022-09-06|majid_jordan|     7|                9|            7|\n",
      "|2022-09-07|majid_jordan|    12|               18|           12|\n",
      "|2022-09-08|majid_jordan|    13|               14|           13|\n",
      "|2022-09-09|majid_jordan|     6|               16|            6|\n",
      "|2022-09-10|majid_jordan|    15|               13|           15|\n",
      "|2022-09-11|majid_jordan|     4|               11|            4|\n",
      "|2022-09-12|majid_jordan|     7|                6|            7|\n",
      "|2022-09-13|majid_jordan|     5|                8|            5|\n",
      "|2022-09-14|majid_jordan|    10|               17|           10|\n",
      "|2022-09-15|majid_jordan|     4|               13|            4|\n",
      "|2022-09-16|majid_jordan|     9|               15|            9|\n",
      "|2022-09-17|majid_jordan|    17|               12|           17|\n",
      "|2022-09-18|majid_jordan|    15|               11|           15|\n",
      "|2022-09-19|majid_jordan|     5|                5|            5|\n",
      "|2022-09-20|majid_jordan|    13|                8|           13|\n",
      "+----------+------------+------+-----------------+-------------+\n",
      "only showing top 20 rows\n",
      "\n"
     ]
    }
   ],
   "source": [
    "results_mdb.show(20)"
   ]
  },
  {
   "cell_type": "code",
   "execution_count": 113,
   "id": "18fec5cc",
   "metadata": {},
   "outputs": [
    {
     "name": "stdout",
     "output_type": "stream",
     "text": [
      "root\n",
      " |-- dates: date (nullable = true)\n",
      " |-- artist: string (nullable = true)\n",
      " |-- tweets: integer (nullable = true)\n",
      " |-- forecasted_tweets: integer (nullable = true)\n",
      " |-- hist_forecast: integer (nullable = true)\n",
      "\n"
     ]
    }
   ],
   "source": [
    "results_mdb.printSchema()"
   ]
  },
  {
   "cell_type": "code",
   "execution_count": 120,
   "id": "0fbd204e",
   "metadata": {},
   "outputs": [
    {
     "name": "stdout",
     "output_type": "stream",
     "text": [
      "+-----+------+------+-----------------+-------------+\n",
      "|dates|artist|tweets|forecasted_tweets|hist_forecast|\n",
      "+-----+------+------+-----------------+-------------+\n",
      "+-----+------+------+-----------------+-------------+\n",
      "\n"
     ]
    }
   ],
   "source": [
    "results_mdb.filter(col(\"hist_forecast\").isNull()).show()"
   ]
  },
  {
   "cell_type": "code",
   "execution_count": 116,
   "id": "cbb77472",
   "metadata": {},
   "outputs": [],
   "source": [
    "url = \"jdbc:mysql://localhost:3306/relatedartists\"\n",
    "table = \"Forecast\"\n",
    "mode = \"overwrite\"\n",
    "props = {\"user\":\"osbdet\",\n",
    "         \"password\":\"osbdet123$\", \n",
    "         \"driver\":\"org.mariadb.jdbc.Driver\"}"
   ]
  },
  {
   "cell_type": "code",
   "execution_count": 117,
   "id": "82b6c381",
   "metadata": {},
   "outputs": [],
   "source": [
    "results_mdb.write.jdbc(url,table,mode,props)"
   ]
  }
 ],
 "metadata": {
  "kernelspec": {
   "display_name": "Python 3 (ipykernel)",
   "language": "python",
   "name": "python3"
  },
  "language_info": {
   "codemirror_mode": {
    "name": "ipython",
    "version": 3
   },
   "file_extension": ".py",
   "mimetype": "text/x-python",
   "name": "python",
   "nbconvert_exporter": "python",
   "pygments_lexer": "ipython3",
   "version": "3.9.2"
  }
 },
 "nbformat": 4,
 "nbformat_minor": 5
}
