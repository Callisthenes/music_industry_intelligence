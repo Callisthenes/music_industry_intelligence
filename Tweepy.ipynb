{
 "cells": [
  {
   "cell_type": "code",
   "execution_count": 6,
   "id": "987167cf",
   "metadata": {},
   "outputs": [],
   "source": [
    "# Tweepy"
   ]
  },
  {
   "cell_type": "code",
   "execution_count": 1,
   "id": "81c12b44",
   "metadata": {},
   "outputs": [
    {
     "name": "stdout",
     "output_type": "stream",
     "text": [
      "Defaulting to user installation because normal site-packages is not writeable\n",
      "Collecting tweepy\n",
      "  Downloading tweepy-4.10.1-py3-none-any.whl (94 kB)\n",
      "\u001b[2K     \u001b[90m━━━━━━━━━━━━━━━━━━━━━━━━━━━━━━━━━━━━━━━━\u001b[0m \u001b[32m94.6/94.6 kB\u001b[0m \u001b[31m4.0 MB/s\u001b[0m eta \u001b[36m0:00:00\u001b[0ma \u001b[36m0:00:01\u001b[0m\n",
      "\u001b[?25hRequirement already satisfied: requests<3,>=2.27.0 in /home/osbdet/.local/lib/python3.9/site-packages (from tweepy) (2.28.1)\n",
      "Collecting oauthlib<4,>=3.2.0\n",
      "  Downloading oauthlib-3.2.1-py3-none-any.whl (151 kB)\n",
      "\u001b[2K     \u001b[90m━━━━━━━━━━━━━━━━━━━━━━━━━━━━━━━━━━━━━━━\u001b[0m \u001b[32m151.7/151.7 kB\u001b[0m \u001b[31m2.1 MB/s\u001b[0m eta \u001b[36m0:00:00\u001b[0ma \u001b[36m0:00:01\u001b[0m\n",
      "\u001b[?25hCollecting requests-oauthlib<2,>=1.2.0\n",
      "  Downloading requests_oauthlib-1.3.1-py2.py3-none-any.whl (23 kB)\n",
      "Requirement already satisfied: certifi>=2017.4.17 in /usr/local/lib/python3.9/dist-packages (from requests<3,>=2.27.0->tweepy) (2020.12.5)\n",
      "Requirement already satisfied: charset-normalizer<3,>=2 in /usr/local/lib/python3.9/dist-packages (from requests<3,>=2.27.0->tweepy) (2.0.12)\n",
      "Requirement already satisfied: idna<4,>=2.5 in /usr/local/lib/python3.9/dist-packages (from requests<3,>=2.27.0->tweepy) (3.3)\n",
      "Requirement already satisfied: urllib3<1.27,>=1.21.1 in /usr/local/lib/python3.9/dist-packages (from requests<3,>=2.27.0->tweepy) (1.26.8)\n",
      "Installing collected packages: oauthlib, requests-oauthlib, tweepy\n",
      "Successfully installed oauthlib-3.2.1 requests-oauthlib-1.3.1 tweepy-4.10.1\n",
      "Note: you may need to restart the kernel to use updated packages.\n"
     ]
    }
   ],
   "source": [
    "pip install tweepy"
   ]
  },
  {
   "cell_type": "code",
   "execution_count": 17,
   "id": "ecea4bc0",
   "metadata": {},
   "outputs": [
    {
     "name": "stdout",
     "output_type": "stream",
     "text": [
      "Successful Authentication\n"
     ]
    }
   ],
   "source": [
    "import tweepy\n",
    " \n",
    "# API keyws that yous saved earlier\n",
    "api_key = \"M1BeP7LiNZIpfwd62uodI3FUZ\"\n",
    "api_secrets = \"9Emkl5hQigq4sRUOKw9Y63mfhw8iPmXDTSCjpG2vebQLJin0ra\"\n",
    "access_token =  \"1580929244544339968-Nx0ZXhWJQwaRi84jP8DYLjewvN3IOA\"\n",
    "access_secret = \"7Pp4q0dPc2BhiINeFB50Y0cR8L4RnqPCWBQU1Ny6NawCH\"\n",
    "\n",
    "# Authenticate to Twitter\n",
    "auth = tweepy.OAuthHandler(api_key,api_secrets)\n",
    "auth.set_access_token(access_token,access_secret)\n",
    " \n",
    "api = tweepy.API(auth)\n",
    " \n",
    "try:\n",
    "    api.verify_credentials()\n",
    "    print('Successful Authentication')\n",
    "except:\n",
    "    print('Failed authentication')"
   ]
  },
  {
   "cell_type": "code",
   "execution_count": 25,
   "id": "21d492ba",
   "metadata": {},
   "outputs": [
    {
     "ename": "TypeError",
     "evalue": "get_user() takes 1 positional argument but 2 were given",
     "output_type": "error",
     "traceback": [
      "\u001b[0;31m---------------------------------------------------------------------------\u001b[0m",
      "\u001b[0;31mTypeError\u001b[0m                                 Traceback (most recent call last)",
      "Input \u001b[0;32mIn [25]\u001b[0m, in \u001b[0;36m<cell line: 1>\u001b[0;34m()\u001b[0m\n\u001b[0;32m----> 1\u001b[0m user \u001b[38;5;241m=\u001b[39m \u001b[43mapi\u001b[49m\u001b[38;5;241;43m.\u001b[39;49m\u001b[43mget_user\u001b[49m\u001b[43m(\u001b[49m\u001b[38;5;124;43m'\u001b[39;49m\u001b[38;5;124;43mVP\u001b[39;49m\u001b[38;5;124;43m'\u001b[39;49m\u001b[43m)\u001b[49m\n",
      "File \u001b[0;32m~/.local/lib/python3.9/site-packages/tweepy/api.py:46\u001b[0m, in \u001b[0;36mpayload.<locals>.decorator.<locals>.wrapper\u001b[0;34m(*args, **kwargs)\u001b[0m\n\u001b[1;32m     44\u001b[0m kwargs[\u001b[38;5;124m'\u001b[39m\u001b[38;5;124mpayload_list\u001b[39m\u001b[38;5;124m'\u001b[39m] \u001b[38;5;241m=\u001b[39m payload_list\n\u001b[1;32m     45\u001b[0m kwargs[\u001b[38;5;124m'\u001b[39m\u001b[38;5;124mpayload_type\u001b[39m\u001b[38;5;124m'\u001b[39m] \u001b[38;5;241m=\u001b[39m payload_type\n\u001b[0;32m---> 46\u001b[0m \u001b[38;5;28;01mreturn\u001b[39;00m \u001b[43mmethod\u001b[49m\u001b[43m(\u001b[49m\u001b[38;5;241;43m*\u001b[39;49m\u001b[43margs\u001b[49m\u001b[43m,\u001b[49m\u001b[43m \u001b[49m\u001b[38;5;241;43m*\u001b[39;49m\u001b[38;5;241;43m*\u001b[39;49m\u001b[43mkwargs\u001b[49m\u001b[43m)\u001b[49m\n",
      "\u001b[0;31mTypeError\u001b[0m: get_user() takes 1 positional argument but 2 were given"
     ]
    }
   ],
   "source": [
    "user = api.get_user('VP') # Store user as a variable\n"
   ]
  },
  {
   "cell_type": "code",
   "execution_count": 24,
   "id": "a823004a",
   "metadata": {},
   "outputs": [
    {
     "ename": "TypeError",
     "evalue": "get_user() takes 1 positional argument but 2 were given",
     "output_type": "error",
     "traceback": [
      "\u001b[0;31m---------------------------------------------------------------------------\u001b[0m",
      "\u001b[0;31mTypeError\u001b[0m                                 Traceback (most recent call last)",
      "Input \u001b[0;32mIn [24]\u001b[0m, in \u001b[0;36m<cell line: 1>\u001b[0;34m()\u001b[0m\n\u001b[0;32m----> 1\u001b[0m user \u001b[38;5;241m=\u001b[39m \u001b[43mapi\u001b[49m\u001b[38;5;241;43m.\u001b[39;49m\u001b[43mget_user\u001b[49m\u001b[43m(\u001b[49m\u001b[38;5;124;43m'\u001b[39;49m\u001b[38;5;124;43mVP\u001b[39;49m\u001b[38;5;124;43m'\u001b[39;49m\u001b[43m)\u001b[49m \u001b[38;5;66;03m# Store user as a variable\u001b[39;00m\n\u001b[1;32m      3\u001b[0m \u001b[38;5;66;03m# Get user Twitter statistics\u001b[39;00m\n\u001b[1;32m      4\u001b[0m \u001b[38;5;28mprint\u001b[39m(\u001b[38;5;124mf\u001b[39m\u001b[38;5;124m\"\u001b[39m\u001b[38;5;124muser.followers_count: \u001b[39m\u001b[38;5;132;01m{\u001b[39;00muser\u001b[38;5;241m.\u001b[39mfollowers_count\u001b[38;5;132;01m}\u001b[39;00m\u001b[38;5;124m\"\u001b[39m)\n",
      "File \u001b[0;32m~/.local/lib/python3.9/site-packages/tweepy/api.py:46\u001b[0m, in \u001b[0;36mpayload.<locals>.decorator.<locals>.wrapper\u001b[0;34m(*args, **kwargs)\u001b[0m\n\u001b[1;32m     44\u001b[0m kwargs[\u001b[38;5;124m'\u001b[39m\u001b[38;5;124mpayload_list\u001b[39m\u001b[38;5;124m'\u001b[39m] \u001b[38;5;241m=\u001b[39m payload_list\n\u001b[1;32m     45\u001b[0m kwargs[\u001b[38;5;124m'\u001b[39m\u001b[38;5;124mpayload_type\u001b[39m\u001b[38;5;124m'\u001b[39m] \u001b[38;5;241m=\u001b[39m payload_type\n\u001b[0;32m---> 46\u001b[0m \u001b[38;5;28;01mreturn\u001b[39;00m \u001b[43mmethod\u001b[49m\u001b[43m(\u001b[49m\u001b[38;5;241;43m*\u001b[39;49m\u001b[43margs\u001b[49m\u001b[43m,\u001b[49m\u001b[43m \u001b[49m\u001b[38;5;241;43m*\u001b[39;49m\u001b[38;5;241;43m*\u001b[39;49m\u001b[43mkwargs\u001b[49m\u001b[43m)\u001b[49m\n",
      "\u001b[0;31mTypeError\u001b[0m: get_user() takes 1 positional argument but 2 were given"
     ]
    }
   ],
   "source": [
    " \n",
    "# Get user Twitter statistics\n",
    "print(f\"user.followers_count: {user.followers_count}\")\n",
    "print(f\"user.listed_count: {user.listed_count}\")\n",
    "print(f\"user.statuses_count: {user.statuses_count}\")\n",
    " \n",
    "# Show followers\n",
    "for follower in user.followers():\n",
    "    print('Name: ' + str(follower.name))\n",
    "    print('Username: ' + str(follower.screen_name))\n",
    " \n"
   ]
  },
  {
   "cell_type": "code",
   "execution_count": null,
   "id": "656bdbe7",
   "metadata": {},
   "outputs": [],
   "source": [
    "# Follow a user\n",
    "api.create_friendship('VP')\n",
    " \n",
    "# Get tweets from a user tmeline\n",
    "tweets = api.user_timeline(id='VP', count=200)\n",
    "tweets_extended = api.user_timeline(id='VP', tweet_mode='extended', count=200)\n",
    "print(tweets_extended)\n",
    " \n",
    "# Like or retweet tweets\n",
    "#id = 'id_of_tweet' # tweet ID\n",
    "#tweet = api.get_status(id) # get tweets with specific id\n",
    "#tweet.favorite() # Like a tweet\n",
    "#tweet.retweet() # Retweet"
   ]
  },
  {
   "cell_type": "code",
   "execution_count": 19,
   "id": "63dc7823",
   "metadata": {},
   "outputs": [
    {
     "name": "stderr",
     "output_type": "stream",
     "text": [
      "WARNING:tweepy.api:Unexpected parameter: id\n",
      "WARNING:tweepy.api:Unexpected parameter: id\n"
     ]
    },
    {
     "data": {
      "text/plain": [
       "{'created_at': 'Fri Oct 14 15:07:00 +0000 2022',\n",
       " 'id': 1580938229137563648,\n",
       " 'id_str': '1580938229137563648',\n",
       " 'text': 'Right now, young people across the country are feeling the effects of the Supreme Court taking away a constitutiona… https://t.co/ybzCfCgF0k',\n",
       " 'truncated': True,\n",
       " 'entities': {'hashtags': [],\n",
       "  'symbols': [],\n",
       "  'user_mentions': [],\n",
       "  'urls': [{'url': 'https://t.co/ybzCfCgF0k',\n",
       "    'expanded_url': 'https://twitter.com/i/web/status/1580938229137563648',\n",
       "    'display_url': 'twitter.com/i/web/status/1…',\n",
       "    'indices': [117, 140]}]},\n",
       " 'source': '<a href=\"https://www.sprinklr.com\" rel=\"nofollow\">The White House</a>',\n",
       " 'in_reply_to_status_id': None,\n",
       " 'in_reply_to_status_id_str': None,\n",
       " 'in_reply_to_user_id': None,\n",
       " 'in_reply_to_user_id_str': None,\n",
       " 'in_reply_to_screen_name': None,\n",
       " 'user': {'id': 803694179079458816,\n",
       "  'id_str': '803694179079458816',\n",
       "  'name': 'Vice President Kamala Harris',\n",
       "  'screen_name': 'VP',\n",
       "  'location': '',\n",
       "  'description': 'Vice President of the United States. Wife to the first @SecondGentleman. Momala. Auntie. Fighting for the people.',\n",
       "  'url': 'https://t.co/vbwTCDvd7M',\n",
       "  'entities': {'url': {'urls': [{'url': 'https://t.co/vbwTCDvd7M',\n",
       "      'expanded_url': 'http://whitehouse.gov',\n",
       "      'display_url': 'whitehouse.gov',\n",
       "      'indices': [0, 23]}]},\n",
       "   'description': {'urls': []}},\n",
       "  'protected': False,\n",
       "  'followers_count': 13752364,\n",
       "  'friends_count': 6,\n",
       "  'listed_count': 16791,\n",
       "  'created_at': 'Tue Nov 29 20:16:39 +0000 2016',\n",
       "  'favourites_count': 1282,\n",
       "  'utc_offset': None,\n",
       "  'time_zone': None,\n",
       "  'geo_enabled': False,\n",
       "  'verified': True,\n",
       "  'statuses_count': 7935,\n",
       "  'lang': None,\n",
       "  'contributors_enabled': False,\n",
       "  'is_translator': False,\n",
       "  'is_translation_enabled': False,\n",
       "  'profile_background_color': 'F5F8FA',\n",
       "  'profile_background_image_url': None,\n",
       "  'profile_background_image_url_https': None,\n",
       "  'profile_background_tile': False,\n",
       "  'profile_image_url': 'http://pbs.twimg.com/profile_images/1380657780865044480/BBxmnji2_normal.jpg',\n",
       "  'profile_image_url_https': 'https://pbs.twimg.com/profile_images/1380657780865044480/BBxmnji2_normal.jpg',\n",
       "  'profile_banner_url': 'https://pbs.twimg.com/profile_banners/803694179079458816/1663259996',\n",
       "  'profile_link_color': '1DA1F2',\n",
       "  'profile_sidebar_border_color': 'C0DEED',\n",
       "  'profile_sidebar_fill_color': 'DDEEF6',\n",
       "  'profile_text_color': '333333',\n",
       "  'profile_use_background_image': True,\n",
       "  'has_extended_profile': False,\n",
       "  'default_profile': True,\n",
       "  'default_profile_image': False,\n",
       "  'following': False,\n",
       "  'follow_request_sent': False,\n",
       "  'notifications': False,\n",
       "  'translator_type': 'none',\n",
       "  'withheld_in_countries': []},\n",
       " 'geo': None,\n",
       " 'coordinates': None,\n",
       " 'place': None,\n",
       " 'contributors': None,\n",
       " 'is_quote_status': False,\n",
       " 'retweet_count': 301,\n",
       " 'favorite_count': 1517,\n",
       " 'favorited': False,\n",
       " 'retweeted': False,\n",
       " 'lang': 'en'}"
      ]
     },
     "execution_count": 19,
     "metadata": {},
     "output_type": "execute_result"
    }
   ],
   "source": [
    "# Get a list of tweets\n",
    "tweets = api.user_timeline(id='VP', count=200)\n",
    "tweets_extended = api.user_timeline(id='ChouinardJC', tweet_mode='extended', count=200)\n",
    " \n",
    "# Show one tweet's JSON\n",
    "tweet = tweets[0]\n",
    "tweet._json"
   ]
  },
  {
   "cell_type": "code",
   "execution_count": 20,
   "id": "653f21b9",
   "metadata": {},
   "outputs": [
    {
     "name": "stdout",
     "output_type": "stream",
     "text": [
      "Created at:2022-10-14 15:07:00+00:00\n",
      "Tweet id:1580938229137563648\n",
      "Tweet text:Right now, young people across the country are feeling the effects of the Supreme Court taking away a constitutiona… https://t.co/ybzCfCgF0k\n",
      "Is Retweeted:False\n",
      "Is favorited:False\n",
      "Is quote:False\n",
      "Retweet count:301\n",
      "Favorite count:1517\n",
      "Tweet lang:en\n",
      "In reply to status id:None\n",
      "In reply to user id:None\n"
     ]
    }
   ],
   "source": [
    "# Get tweet data\n",
    "print(f'Created at:{tweet.created_at}')\n",
    "print(f'Tweet id:{tweet.id}')\n",
    " \n",
    "# Get tweet text\n",
    "try:\n",
    "    print(f'Tweet text:{tweet.text}')\n",
    "except:\n",
    "    # Get tweet text in extended mode\n",
    "    print(f'Tweet text:{tweet.full_text}')\n",
    " \n",
    "# Get tweet status\n",
    "print(f'Is Retweeted:{tweet.retweeted}')\n",
    "print(f'Is favorited:{tweet.favorited}')\n",
    "print(f'Is quote:{tweet.is_quote_status}')\n",
    " \n",
    "# Get Tweet statistics\n",
    "print(f'Retweet count:{tweet.retweet_count}')\n",
    "print(f'Favorite count:{tweet.favorite_count}')\n",
    " \n",
    "# Get tweet lang\n",
    "print(f'Tweet lang:{tweet.lang}')\n",
    " \n",
    "# Get replied to\n",
    "print(f'In reply to status id:{tweet.in_reply_to_status_id}')\n",
    "print(f'In reply to user id:{tweet.in_reply_to_user_id}')"
   ]
  },
  {
   "cell_type": "code",
   "execution_count": null,
   "id": "d2485fba",
   "metadata": {},
   "outputs": [],
   "source": [
    "#original source: https://www.jcchouinard.com/twitter-api/"
   ]
  },
  {
   "cell_type": "code",
   "execution_count": null,
   "id": "7769560e",
   "metadata": {},
   "outputs": [],
   "source": []
  },
  {
   "cell_type": "code",
   "execution_count": null,
   "id": "56640b87",
   "metadata": {},
   "outputs": [],
   "source": []
  },
  {
   "cell_type": "code",
   "execution_count": null,
   "id": "e8e1cab7",
   "metadata": {},
   "outputs": [],
   "source": []
  },
  {
   "cell_type": "code",
   "execution_count": null,
   "id": "c4aecad9",
   "metadata": {},
   "outputs": [],
   "source": []
  },
  {
   "cell_type": "code",
   "execution_count": null,
   "id": "ac0856b5",
   "metadata": {},
   "outputs": [],
   "source": []
  },
  {
   "cell_type": "code",
   "execution_count": null,
   "id": "58ad68d6",
   "metadata": {},
   "outputs": [],
   "source": []
  },
  {
   "cell_type": "code",
   "execution_count": null,
   "id": "426bbb62",
   "metadata": {},
   "outputs": [],
   "source": []
  },
  {
   "cell_type": "code",
   "execution_count": null,
   "id": "e7a4c6ea",
   "metadata": {},
   "outputs": [],
   "source": []
  }
 ],
 "metadata": {
  "kernelspec": {
   "display_name": "Python 3 (ipykernel)",
   "language": "python",
   "name": "python3"
  },
  "language_info": {
   "codemirror_mode": {
    "name": "ipython",
    "version": 3
   },
   "file_extension": ".py",
   "mimetype": "text/x-python",
   "name": "python",
   "nbconvert_exporter": "python",
   "pygments_lexer": "ipython3",
   "version": "3.9.2"
  }
 },
 "nbformat": 4,
 "nbformat_minor": 5
}
